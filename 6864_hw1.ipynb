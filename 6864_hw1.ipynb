{
  "nbformat": 4,
  "nbformat_minor": 0,
  "metadata": {
    "colab": {
      "name": "6864-hw1",
      "provenance": [],
      "collapsed_sections": [],
      "machine_shape": "hm",
      "include_colab_link": true
    },
    "kernelspec": {
      "name": "python3",
      "display_name": "Python 3"
    },
    "accelerator": "GPU"
  },
  "cells": [
    {
      "cell_type": "markdown",
      "metadata": {
        "id": "view-in-github",
        "colab_type": "text"
      },
      "source": [
        "<a href=\"https://colab.research.google.com/github/albert-yue/6864-hw1/blob/master/6864_hw1.ipynb\" target=\"_parent\"><img src=\"https://colab.research.google.com/assets/colab-badge.svg\" alt=\"Open In Colab\"/></a>"
      ]
    },
    {
      "cell_type": "code",
      "metadata": {
        "id": "FU7xWiY6TyWS",
        "colab_type": "code",
        "outputId": "c389e6ef-e8b5-4910-f290-efb3ceb7b15e",
        "colab": {
          "base_uri": "https://localhost:8080/",
          "height": 35
        }
      },
      "source": [
        "%%bash\n",
        "!(stat -t /usr/local/lib/*/dist-packages/google/colab > /dev/null 2>&1) && exit \n",
        "rm -rf 6864-hw1\n",
        "git clone https://github.com/lingo-mit/6864-hw1.git"
      ],
      "execution_count": 1,
      "outputs": [
        {
          "output_type": "stream",
          "text": [
            "Cloning into '6864-hw1'...\n"
          ],
          "name": "stderr"
        }
      ]
    },
    {
      "cell_type": "code",
      "metadata": {
        "id": "A0MHaHrdUACZ",
        "colab_type": "code",
        "colab": {}
      },
      "source": [
        "import sys\n",
        "sys.path.append(\"/content/6864-hw1\")\n",
        "\n",
        "import csv\n",
        "import itertools as it\n",
        "import numpy as np\n",
        "np.random.seed(0)\n",
        "\n",
        "import lab_util"
      ],
      "execution_count": 0,
      "outputs": []
    },
    {
      "cell_type": "code",
      "metadata": {
        "id": "Jpx0bdExJVh-",
        "colab_type": "code",
        "colab": {}
      },
      "source": [
        "from matplotlib import pyplot as plt\n",
        "from google.colab import files"
      ],
      "execution_count": 0,
      "outputs": []
    },
    {
      "cell_type": "markdown",
      "metadata": {
        "id": "cZ3MUj4iUf76",
        "colab_type": "text"
      },
      "source": [
        "## Introduction\n",
        "\n",
        "In this lab, you'll explore three different ways of using unlabeled text data to learn pretrained word representations. Your lab report will describe the effects of different modeling decisions (representation learning objective, context size, etc.) on both qualitative properties of learned representations and their effect on a downstream prediction problem.\n",
        "\n",
        "**General lab report guidelines**\n",
        "\n",
        "Homework assignments should be submitted in the form of a research report. (We'll be providing a place to upload them before the due date, but are still sorting out some logistics.) Please upload PDFs, with a maximum of four single-spaced pages. (If you want you can use the [Association for Computational Linguistics style files](http://acl2020.org/downloads/acl2020-templates.zip).) Reports should have one section for each part of the homework assignment below. Each section should describe the details of your code implementation, and include whatever charts / tables are necessary to answer the set of questions at the end of the corresponding homework part.\n"
      ]
    },
    {
      "cell_type": "markdown",
      "metadata": {
        "id": "gG654Y9J3yHw",
        "colab_type": "text"
      },
      "source": [
        "\n",
        "We're going to be working with a dataset of product reviews. It looks like this:"
      ]
    },
    {
      "cell_type": "code",
      "metadata": {
        "id": "JwiX-Tc9V1xI",
        "colab_type": "code",
        "outputId": "fd03640a-547e-4371-bbae-9aa487ecc2a7",
        "colab": {
          "base_uri": "https://localhost:8080/",
          "height": 371
        }
      },
      "source": [
        "data = []\n",
        "n_positive = 0\n",
        "n_disp = 0\n",
        "with open(\"/content/6864-hw1/reviews.csv\") as reader:\n",
        "  csvreader = csv.reader(reader)\n",
        "  next(csvreader)\n",
        "  for id, review, label in csvreader:\n",
        "    label = int(label)\n",
        "\n",
        "    # hacky class balancing\n",
        "    if label == 1:\n",
        "      if n_positive == 2000:\n",
        "        continue\n",
        "      n_positive += 1\n",
        "    if len(data) == 4000:\n",
        "      break\n",
        "\n",
        "    data.append((review, label))\n",
        "    \n",
        "    if n_disp > 5:\n",
        "      continue\n",
        "    n_disp += 1\n",
        "    print(\"review:\", review)\n",
        "    print(\"rating:\", label, \"(good)\" if label == 1 else \"(bad)\")\n",
        "    print()\n",
        "\n",
        "print(f\"Read {len(data)} total reviews.\")\n",
        "np.random.shuffle(data)\n",
        "reviews, labels = zip(*data)\n",
        "train_reviews = reviews[:3000]\n",
        "train_labels = labels[:3000]\n",
        "val_reviews = reviews[3000:3500]\n",
        "val_labels = labels[3000:3500]\n",
        "test_reviews = reviews[3500:]\n",
        "test_labels = labels[3500:]"
      ],
      "execution_count": 3,
      "outputs": [
        {
          "output_type": "stream",
          "text": [
            "review: I have bought several of the Vitality canned dog food products and have found them all to be of good quality. The product looks more like a stew than a processed meat and it smells better. My Labrador is finicky and she appreciates this product better than  most.\n",
            "rating: 1 (good)\n",
            "\n",
            "review: Product arrived labeled as Jumbo Salted Peanuts...the peanuts were actually small sized unsalted. Not sure if this was an error or if the vendor intended to represent the product as \"Jumbo\".\n",
            "rating: 0 (bad)\n",
            "\n",
            "review: This is a confection that has been around a few centuries.  It is a light, pillowy citrus gelatin with nuts - in this case Filberts. And it is cut into tiny squares and then liberally coated with powdered sugar.  And it is a tiny mouthful of heaven.  Not too chewy, and very flavorful.  I highly recommend this yummy treat.  If you are familiar with the story of C.S. Lewis' \"The Lion, The Witch, and The Wardrobe\" - this is the treat that seduces Edmund into selling out his Brother and Sisters to the Witch.\n",
            "rating: 1 (good)\n",
            "\n",
            "review: If you are looking for the secret ingredient in Robitussin I believe I have found it.  I got this in addition to the Root Beer Extract I ordered (which was good) and made some cherry soda.  The flavor is very medicinal.\n",
            "rating: 0 (bad)\n",
            "\n",
            "review: Great taffy at a great price.  There was a wide assortment of yummy taffy.  Delivery was very quick.  If your a taffy lover, this is a deal.\n",
            "rating: 1 (good)\n",
            "\n",
            "review: I got a wild hair for taffy and ordered this five pound bag. The taffy was all very enjoyable with many flavors: watermelon, root beer, melon, peppermint, grape, etc. My only complaint is there was a bit too much red/black licorice-flavored pieces (just not my particular favorites). Between me, my kids, and my husband, this lasted only two weeks! I would recommend this brand of taffy -- it was a delightful treat.\n",
            "rating: 1 (good)\n",
            "\n",
            "Read 4000 total reviews.\n"
          ],
          "name": "stdout"
        }
      ]
    },
    {
      "cell_type": "markdown",
      "metadata": {
        "id": "8h4k40QoXFO5",
        "colab_type": "text"
      },
      "source": [
        "We've provided a little bit of helper code for reading in the dataset; your job is to implement the learning!"
      ]
    },
    {
      "cell_type": "markdown",
      "metadata": {
        "id": "twLHWqM6Z5xD",
        "colab_type": "text"
      },
      "source": [
        "## Part 1: word representations via matrix factorization\n",
        "\n",
        "First, we'll construct the term--document matrix (look at `/content/6864-hw1/lab_util.py` in the file browser on the left if you want to see how this works)."
      ]
    },
    {
      "cell_type": "code",
      "metadata": {
        "id": "3WPt6Y7-Z_7P",
        "colab_type": "code",
        "outputId": "ba603892-6153-47a6-a12a-27ecee1166ca",
        "colab": {
          "base_uri": "https://localhost:8080/",
          "height": 35
        }
      },
      "source": [
        "vectorizer = lab_util.CountVectorizer()\n",
        "vectorizer.fit(train_reviews)\n",
        "td_matrix = vectorizer.transform(train_reviews).T\n",
        "print(f\"TD matrix is {td_matrix.shape[0]} x {td_matrix.shape[1]}\")"
      ],
      "execution_count": 4,
      "outputs": [
        {
          "output_type": "stream",
          "text": [
            "TD matrix is 2006 x 3000\n"
          ],
          "name": "stdout"
        }
      ]
    },
    {
      "cell_type": "markdown",
      "metadata": {
        "id": "hd3-pw4XbD4B",
        "colab_type": "text"
      },
      "source": [
        "First, implement a function that computes word representations via latent semantic analysis:"
      ]
    },
    {
      "cell_type": "code",
      "metadata": {
        "id": "KASVs8KubeBE",
        "colab_type": "code",
        "colab": {}
      },
      "source": [
        "from numpy.linalg import svd\n",
        "\n",
        "def learn_reps_lsa(matrix, rep_size):\n",
        "  # `matrix` is a `|V| x n` matrix, where `|V|` is the number of words in the\n",
        "  # vocabulary. This function should return a `|V| x rep_size` matrix with each\n",
        "  # row corresponding to a word representation. The `sklearn.decomposition` \n",
        "  # package may be useful.\n",
        "\n",
        "  u, _, _ = svd(matrix)\n",
        "  return u[:, :rep_size]"
      ],
      "execution_count": 0,
      "outputs": []
    },
    {
      "cell_type": "markdown",
      "metadata": {
        "id": "SKWzRC0dclVK",
        "colab_type": "text"
      },
      "source": [
        "Let's look at some representations:"
      ]
    },
    {
      "cell_type": "code",
      "metadata": {
        "id": "-Ad7RZkwceWw",
        "colab_type": "code",
        "outputId": "8f4dfd84-085d-42ee-eb4b-6d11c96f59e8",
        "colab": {
          "base_uri": "https://localhost:8080/",
          "height": 756
        }
      },
      "source": [
        "reps = learn_reps_lsa(td_matrix, 500)\n",
        "words = [\"good\", \"bad\", \"cookie\", \"jelly\", \"dog\", \"the\", \"4\"]\n",
        "show_tokens = [vectorizer.tokenizer.word_to_token[word] for word in words]\n",
        "lab_util.show_similar_words(vectorizer.tokenizer, reps, show_tokens)"
      ],
      "execution_count": 6,
      "outputs": [
        {
          "output_type": "stream",
          "text": [
            "good 47\n",
            "  gerber 1.873\n",
            "  luck 1.885\n",
            "  crazy 1.890\n",
            "  flaxseed 1.906\n",
            "  suspect 1.907\n",
            "bad 201\n",
            "  disgusting 1.625\n",
            "  horrible 1.776\n",
            "  shortbread 1.778\n",
            "  gone 1.778\n",
            "  dont 1.802\n",
            "cookie 504\n",
            "  nana's 0.964\n",
            "  bars 1.363\n",
            "  odd 1.402\n",
            "  impossible 1.459\n",
            "  cookies 1.484\n",
            "jelly 351\n",
            "  twist 1.099\n",
            "  cardboard 1.197\n",
            "  peanuts 1.311\n",
            "  advertised 1.331\n",
            "  plastic 1.510\n",
            "dog 925\n",
            "  happier 1.670\n",
            "  earlier 1.681\n",
            "  eats 1.702\n",
            "  stays 1.722\n",
            "  standard 1.727\n",
            "the 36\n",
            "  suspect 1.953\n",
            "  flowers 1.961\n",
            "  leaked 1.966\n",
            "  m 1.966\n",
            "  burn 1.967\n",
            "4 292\n",
            "  shortbread 1.674\n",
            "  toast 1.683\n",
            "  mistake 1.690\n",
            "  2nd 1.701\n",
            "  icing 1.723\n"
          ],
          "name": "stdout"
        }
      ]
    },
    {
      "cell_type": "markdown",
      "metadata": {
        "id": "LsOAGLB3iRjT",
        "colab_type": "text"
      },
      "source": [
        "We've been operating on the raw count matrix, but in class we discussed several reweighting schemes aimed at making LSA representations more informative. \n",
        "\n",
        "Here, implement the TF-IDF transform and see how it affects learned representations."
      ]
    },
    {
      "cell_type": "code",
      "metadata": {
        "id": "1y3PmW-IgpqA",
        "colab_type": "code",
        "colab": {}
      },
      "source": [
        "def transform_tfidf(matrix):\n",
        "  # `matrix` is a `|V| x |D|` matrix of raw counts, where `|V|` is the \n",
        "  # vocabulary size and `|D|` is the number of documents in the corpus. This\n",
        "  # function should (nondestructively) return a version of `matrix` with the\n",
        "  # TF-IDF transform appliied.\n",
        "\n",
        "  num_docs = matrix.shape[1]\n",
        "  tf_matrix = matrix.copy()\n",
        "  td_occurrence = np.sum(np.where(tf_matrix > 0, 1, 0), axis=1, keepdims=True)\n",
        "  idf = np.log(num_docs / td_occurrence)\n",
        "  return tf_matrix * idf"
      ],
      "execution_count": 0,
      "outputs": []
    },
    {
      "cell_type": "markdown",
      "metadata": {
        "id": "xOprgqzHi7bk",
        "colab_type": "text"
      },
      "source": [
        "How does this change the learned similarity function?"
      ]
    },
    {
      "cell_type": "code",
      "metadata": {
        "id": "SV5xKLYTi7LA",
        "colab_type": "code",
        "colab": {
          "base_uri": "https://localhost:8080/",
          "height": 756
        },
        "outputId": "00bab9e7-e1a0-4dfa-9e5f-a3d250f4b588"
      },
      "source": [
        "td_matrix_tfidf = transform_tfidf(td_matrix)\n",
        "reps_tfidf = learn_reps_lsa(td_matrix_tfidf, 500)\n",
        "lab_util.show_similar_words(vectorizer.tokenizer, reps_tfidf, show_tokens)"
      ],
      "execution_count": 8,
      "outputs": [
        {
          "output_type": "stream",
          "text": [
            "good 47\n",
            "  crazy 1.695\n",
            "  gerber 1.753\n",
            "  beat 1.758\n",
            "  homemade 1.785\n",
            "  tasting 1.799\n",
            "bad 201\n",
            "  disgusting 1.623\n",
            "  awful 1.713\n",
            "  positive 1.715\n",
            "  bland 1.731\n",
            "  gone 1.736\n",
            "cookie 504\n",
            "  nana's 1.103\n",
            "  moist 1.388\n",
            "  odd 1.452\n",
            "  impossible 1.486\n",
            "  needs 1.509\n",
            "jelly 351\n",
            "  twist 1.156\n",
            "  cardboard 1.211\n",
            "  advertised 1.402\n",
            "  plum 1.447\n",
            "  sold 1.470\n",
            "dog 925\n",
            "  happier 1.641\n",
            "  earlier 1.658\n",
            "  foods 1.690\n",
            "  stays 1.697\n",
            "  eats 1.704\n",
            "the 36\n",
            "  <unk> 1.478\n",
            "  and 1.578\n",
            "  . 1.581\n",
            "  of 1.627\n",
            "  is 1.632\n",
            "4 292\n",
            "  mistake 1.687\n",
            "  2nd 1.707\n",
            "  toast 1.708\n",
            "  table 1.714\n",
            "  70 1.723\n"
          ],
          "name": "stdout"
        }
      ]
    },
    {
      "cell_type": "markdown",
      "metadata": {
        "id": "HO-NG4u1kG9z",
        "colab_type": "text"
      },
      "source": [
        "Now that we have some representations, let's see if we can do something useful with them.\n",
        "\n",
        "Below, implement a feature function that represents a document as the sum of its\n",
        "learned word embeddings.\n",
        "\n",
        "The remaining code trains a logistic regression model on a set of *labeled* reviews; we're interested in seeing how much representations learned from *unlabeled* reviews improve classification."
      ]
    },
    {
      "cell_type": "code",
      "metadata": {
        "id": "6B08xvIFlee3",
        "colab_type": "code",
        "colab": {
          "base_uri": "https://localhost:8080/",
          "height": 193
        },
        "outputId": "687a6ad0-24a4-4bf1-9f69-ff3f2cac1d75"
      },
      "source": [
        "def word_featurizer(xs):\n",
        "  # normalize\n",
        "  return xs / np.sqrt((xs ** 2).sum(axis=1, keepdims=True))\n",
        "\n",
        "def lsa_featurizer(xs):\n",
        "  # This function takes in a matrix in which each row contains the word counts\n",
        "  # for the given review. It should return a matrix in which each row contains\n",
        "  # the learned feature representation of each review (e.g. the sum of LSA \n",
        "  # word representations).\n",
        "\n",
        "  feats = xs@reps_tfidf\n",
        "\n",
        "  # normalize\n",
        "  return feats / np.sqrt((feats ** 2).sum(axis=1, keepdims=True))\n",
        "\n",
        "def combo_featurizer(xs):\n",
        "  return np.concatenate((word_featurizer(xs), lsa_featurizer(xs)), axis=1)\n",
        "\n",
        "def train_model(featurizer, xs, ys):\n",
        "  import sklearn.linear_model\n",
        "  xs_featurized = featurizer(xs)\n",
        "  model = sklearn.linear_model.LogisticRegression()\n",
        "  model.fit(xs_featurized, ys)\n",
        "  return model\n",
        "\n",
        "def eval_model(model, featurizer, xs, ys, verbose=True):\n",
        "  xs_featurized = featurizer(xs)\n",
        "  pred_ys = model.predict(xs_featurized)\n",
        "  acc = np.mean(pred_ys == ys)\n",
        "  if verbose: print(\"test accuracy\", acc)\n",
        "  return acc\n",
        "\n",
        "def training_experiment(name, featurizer, n_train, verbose=True):\n",
        "  if verbose: print(f\"{name} features, {n_train} examples\")\n",
        "  train_xs = vectorizer.transform(train_reviews[:n_train])\n",
        "  train_ys = train_labels[:n_train]\n",
        "  test_xs = vectorizer.transform(test_reviews)\n",
        "  test_ys = test_labels\n",
        "  model = train_model(featurizer, train_xs, train_ys)\n",
        "  acc = eval_model(model, featurizer, test_xs, test_ys, verbose=verbose)\n",
        "  if verbose: print()\n",
        "  return acc\n",
        "\n",
        "training_experiment(\"word\", word_featurizer, 10)\n",
        "training_experiment(\"lsa\", lsa_featurizer, 10)\n",
        "training_experiment(\"combo\", combo_featurizer, 10)\n",
        "print()"
      ],
      "execution_count": 51,
      "outputs": [
        {
          "output_type": "stream",
          "text": [
            "word features, 10 examples\n",
            "test accuracy 0.496\n",
            "\n",
            "lsa features, 10 examples\n",
            "test accuracy 0.484\n",
            "\n",
            "combo features, 10 examples\n",
            "test accuracy 0.484\n",
            "\n",
            "\n"
          ],
          "name": "stdout"
        }
      ]
    },
    {
      "cell_type": "markdown",
      "metadata": {
        "id": "rpXziVNrlfp2",
        "colab_type": "text"
      },
      "source": [
        "**Part 1: Lab writeup**\n",
        "\n",
        "Part 1 of your lab report should discuss any implementation details that were important to filling out the code above. Then, use the code to set up experiments that answer the following questions:\n",
        "\n",
        "1. Qualitatively, what do you observe about nearest neighbors in representation    space? (E.g. what words are most similar to _the_, _dog_, _3_, and _good_?)\n",
        "\n",
        "2. How does the size of the LSA representation affect this behavior?\n",
        "\n",
        "\n",
        "3. Recall that the we can compute the word co-occurrence matrix $W_{tt} = W_    \n",
        "   {td} W_{td}^\\top$. What can you prove about the relationship between the    \n",
        "   left singular vectors of $W_{td}$ and $W_{tt}$? Do you observe this behavior \n",
        "   with your implementation of `learn_reps_lsa`? Why or why not?\n",
        "\n",
        "4. Do learned representations help with the review classification problem? What\n",
        "   is the relationship between the number of labeled examples and the effect of\n",
        "   word embeddings?\n",
        "   \n",
        "5. What is the relationship between the size of the word embeddings and their      usefulness for the classification task."
      ]
    },
    {
      "cell_type": "code",
      "metadata": {
        "id": "SOd9ApymO2O0",
        "colab_type": "code",
        "colab": {}
      },
      "source": [
        "train_sizes = [10, 20, 30, 50, 75, 100, 200, 300, 500, 750, 1000, 1500, 2000, 2500, 3000]\n",
        "\n",
        "word_500_results = []\n",
        "lsa_500_results = []\n",
        "combo_500_results = []\n",
        "\n",
        "reps_tfidf = learn_reps_lsa(td_matrix_tfidf, 500)\n",
        "\n",
        "for n in train_sizes:\n",
        "    word_500_results.append(training_experiment(\"word\", word_featurizer, n, verbose=False))\n",
        "    lsa_500_results.append(training_experiment(\"lsa\", lsa_featurizer, n, verbose=False))\n",
        "    combo_500_results.append(training_experiment(\"combo\", combo_featurizer, n, verbose=False))"
      ],
      "execution_count": 0,
      "outputs": []
    },
    {
      "cell_type": "code",
      "metadata": {
        "id": "v3l-v-DFO5Ue",
        "colab_type": "code",
        "colab": {
          "base_uri": "https://localhost:8080/",
          "height": 404
        },
        "outputId": "fcd2d1ac-6f69-4cab-b63e-89c3ac8a08e9"
      },
      "source": [
        "plt.figure(figsize=(6, 6))\n",
        "plt.plot(train_sizes, word_500_results, label=\"word\")\n",
        "plt.plot(train_sizes, lsa_500_results, label=\"lsa\")\n",
        "plt.plot(train_sizes, combo_500_results, label=\"combo\")\n",
        "plt.legend(loc = \"lower right\")\n",
        "plt.title('Test Accuracy of Various Sets of Features on Different Train Data Sizes')\n",
        "plt.xlabel('Number of Train Examples')\n",
        "plt.ylabel('Test Accuracy')\n",
        "\n",
        "# plt.savefig('word_embed_matrix_e500.png')\n",
        "# files.download('word_embed_matrix_e500.png')\n",
        "plt.show()"
      ],
      "execution_count": 53,
      "outputs": [
        {
          "output_type": "display_data",
          "data": {
            "image/png": "[encoded data removed]",
            "text/plain": [
              "<Figure size 432x432 with 1 Axes>"
            ]
          },
          "metadata": {
            "tags": []
          }
        }
      ]
    },
    {
      "cell_type": "code",
      "metadata": {
        "id": "bPl3mth8Pow9",
        "colab_type": "code",
        "colab": {}
      },
      "source": [
        "embedding_sizes = [10, 50, 100, 500, 1000, 2000]\n",
        "train_sizes = [10, 20, 30, 50, 75, 100, 200, 300, 500, 750, 1000, 1500, 2000, 2500, 3000]\n",
        "\n",
        "word_embed_results = {esz: {\"word\": [], \"lsa\": [], \"combo\": []} for esz in embedding_sizes}\n",
        "\n",
        "for embed_sz in embedding_sizes:\n",
        "    reps_tfidf = learn_reps_lsa(td_matrix_tfidf, embed_sz)\n",
        "    \n",
        "    word_results = word_embed_results[embed_sz][\"word\"]\n",
        "    lsa_results = word_embed_results[embed_sz][\"lsa\"]\n",
        "    combo_results = word_embed_results[embed_sz][\"combo\"]\n",
        "\n",
        "    for n in train_sizes:\n",
        "        word_results.append(training_experiment(\"word\", word_featurizer, n, verbose=False))\n",
        "        lsa_results.append(training_experiment(\"lsa\", lsa_featurizer, n, verbose=False))\n",
        "        combo_results.append(training_experiment(\"combo\", combo_featurizer, n, verbose=False))"
      ],
      "execution_count": 0,
      "outputs": []
    },
    {
      "cell_type": "code",
      "metadata": {
        "id": "_zF7u8q6PrxD",
        "colab_type": "code",
        "colab": {
          "base_uri": "https://localhost:8080/",
          "height": 431
        },
        "outputId": "4c1b071f-d003-41f4-d58f-049e4c27ebf9"
      },
      "source": [
        "nrow = 2\n",
        "ncol = 3\n",
        "fig, axs = plt.subplots(nrow, ncol, figsize=(9,6), sharex = True, sharey=True)\n",
        "for i, embed_sz in enumerate(embedding_sizes):\n",
        "    axs[i//ncol, i%ncol].plot(train_sizes, word_embed_results[embed_sz][\"word\"], label=\"word\")\n",
        "    axs[i//ncol, i%ncol].plot(train_sizes, word_embed_results[embed_sz][\"lsa\"], label=\"lsa\")\n",
        "    axs[i//ncol, i%ncol].plot(train_sizes, word_embed_results[embed_sz][\"combo\"], label=\"combo\")\n",
        "    axs[i//ncol, i%ncol].set_title('Embedding Size of {}'.format(embed_sz))\n",
        "\n",
        "for ax in axs.flat:\n",
        "    ax.set(xlabel='Number of Train Examples', ylabel='Test Accuracy')\n",
        "\n",
        "# Hide x labels and tick labels for top plots and y ticks for right plots.\n",
        "for ax in axs.flat:\n",
        "    ax.label_outer()\n",
        "\n",
        "plt.legend(loc = \"lower right\")\n",
        "plt.suptitle('Test Accuracy of Various Sets of Features on Different Train Data Sizes')\n",
        "# plt.subplots_adjust(hspace=0.2)\n",
        "\n",
        "# plt.savefig('assets/word_embed_matrix_embed-ntrain.png')\n",
        "plt.show()"
      ],
      "execution_count": 55,
      "outputs": [
        {
          "output_type": "display_data",
          "data": {
            "image/png": "[encoded data removed]",
            "text/plain": [
              "<Figure size 648x432 with 6 Axes>"
            ]
          },
          "metadata": {
            "tags": []
          }
        }
      ]
    },
    {
      "cell_type": "markdown",
      "metadata": {
        "id": "AxfunCYh5nmZ",
        "colab_type": "text"
      },
      "source": [
        "## Part 2: word representations via language modeling\n",
        "\n",
        "In this section, we'll train a word embedding model with a word2vec-style objective rather than a matrix factorization objective. This requires a little more work; we've provided scaffolding for a PyTorch model implementation below.\n",
        "(If you've never used PyTorch before, there are some tutorials [here](https://pytorch.org/tutorials/). You're also welcome to implement these experiments in\n",
        "any other framework of your choosing.)"
      ]
    },
    {
      "cell_type": "code",
      "metadata": {
        "id": "M1napibQ6aub",
        "colab_type": "code",
        "colab": {}
      },
      "source": [
        "import torch\n",
        "import torch.nn as nn\n",
        "import torch.nn.functional as F\n",
        "import torch.optim as optim\n",
        "import torch.utils.data as torch_data\n",
        "\n",
        "class Word2VecModel(nn.Module):\n",
        "  # A torch module implementing a word2vec predictor. The `forward` function\n",
        "  # should take a batch of context word ids as input and predict the word \n",
        "  # in the middle of the context as output, as in the CBOW model from lecture.\n",
        "\n",
        "  def __init__(self, vocab_size, embed_dim):\n",
        "      super().__init__()\n",
        "\n",
        "      # Your code here!\n",
        "      self.vocab_size = vocab_size\n",
        "      self.embed_dim = embed_dim\n",
        "      self.V = nn.Embedding(vocab_size, embed_dim)\n",
        "      self.U = nn.Linear(embed_dim, vocab_size)\n",
        "      self.log_softmax = nn.LogSoftmax(dim=1)\n",
        "\n",
        "  def forward(self, context):\n",
        "      # Context is an `n_batch x n_context` matrix of integer word ids\n",
        "      # this function should return a set of scores for predicting the word \n",
        "      # in the middle of the context\n",
        "\n",
        "      # Your code here!\n",
        "      n_batch, n_context = context.shape\n",
        "      embeddings = self.V(context)  # n_batch x n_context x self.embed_dim\n",
        "      avg_context = torch.sum(embeddings, dim=1)\n",
        "      output = self.U(avg_context)\n",
        "      if not self.training:\n",
        "        # training uses loss that incorporates softmax\n",
        "        # apply softmax for prediction\n",
        "        output = self.log_softmax(output)\n",
        "      return output"
      ],
      "execution_count": 0,
      "outputs": []
    },
    {
      "cell_type": "code",
      "metadata": {
        "id": "ePgZlityuWr3",
        "colab_type": "code",
        "colab": {}
      },
      "source": [
        "def learn_reps_word2vec(corpus, window_size, rep_size, n_epochs, n_batch):\n",
        "  # This method takes in a corpus of training sentences. It returns a matrix of\n",
        "  # word embeddings with the same structure as used in the previous section of \n",
        "  # the assignment. (You can extract this matrix from the parameters of the \n",
        "  # Word2VecModel.)\n",
        "\n",
        "  tokenizer = lab_util.Tokenizer()\n",
        "  tokenizer.fit(corpus)\n",
        "  tokenized_corpus = tokenizer.tokenize(corpus)\n",
        "\n",
        "  ngrams = lab_util.get_ngrams(tokenized_corpus, window_size)\n",
        "\n",
        "  device = torch.device('cuda')  # run on colab gpu\n",
        "  model = Word2VecModel(tokenizer.vocab_size, rep_size).to(device)\n",
        "  opt = optim.Adam(model.parameters(), lr=0.001)\n",
        "  loss_fn = nn.CrossEntropyLoss()\n",
        "\n",
        "  loader = torch_data.DataLoader(ngrams, batch_size=n_batch, shuffle=True)\n",
        "\n",
        "  model.train()\n",
        "  for epoch in range(n_epochs):\n",
        "    for context, label in loader:\n",
        "      # as described above, `context` is a batch of context word ids (n_batch, n_context), and\n",
        "      # `label` is a batch of predicted word labels of shape (n_batch,)\n",
        "      context = context.to(device)\n",
        "      label = label.to(device)\n",
        "      \n",
        "      model.zero_grad()  # clear gradients\n",
        "      preds = model(context)  # n_batch x vocab_size\n",
        "      loss = loss_fn(preds, label)\n",
        "      loss.backward()  # compute gradients\n",
        "      opt.step()\n",
        "\n",
        "  # reminder: you want to return a `vocab_size x embedding_size` numpy array\n",
        "  embedding_matrix = model.V.weight.cpu().detach().numpy()\n",
        "  return embedding_matrix"
      ],
      "execution_count": 0,
      "outputs": []
    },
    {
      "cell_type": "code",
      "metadata": {
        "id": "aaUy1cNuB3W1",
        "colab_type": "code",
        "colab": {}
      },
      "source": [
        "reps_word2vec = learn_reps_word2vec(train_reviews, 2, 500, 10, 100)"
      ],
      "execution_count": 0,
      "outputs": []
    },
    {
      "cell_type": "markdown",
      "metadata": {
        "id": "O3oE-tpR7I39",
        "colab_type": "text"
      },
      "source": [
        "After training the embeddings, we can try to visualize the embedding space to see if it makes sense. First, we can take any word in the space and check its closest neighbors."
      ]
    },
    {
      "cell_type": "code",
      "metadata": {
        "id": "yMW4QND56bHF",
        "colab_type": "code",
        "colab": {
          "base_uri": "https://localhost:8080/",
          "height": 756
        },
        "outputId": "529ee689-8bf4-4f25-f764-2345a2deaa6d"
      },
      "source": [
        "lab_util.show_similar_words(vectorizer.tokenizer, reps_word2vec, show_tokens)"
      ],
      "execution_count": 25,
      "outputs": [
        {
          "output_type": "stream",
          "text": [
            "good 47\n",
            "  wide 1.683\n",
            "  wouldn't 1.694\n",
            "  tight 1.699\n",
            "  scent 1.710\n",
            "  slowly 1.740\n",
            "bad 201\n",
            "  inches 1.651\n",
            "  done 1.654\n",
            "  banana 1.670\n",
            "  wanting 1.690\n",
            "  weak 1.716\n",
            "cookie 504\n",
            "  he's 1.679\n",
            "  caused 1.712\n",
            "  substitute 1.716\n",
            "  bit 1.733\n",
            "  common 1.741\n",
            "jelly 351\n",
            "  received 1.696\n",
            "  tomatoes 1.701\n",
            "  formula 1.704\n",
            "  canned 1.730\n",
            "  seconds 1.738\n",
            "dog 925\n",
            "  german 1.703\n",
            "  daily 1.708\n",
            "  dark 1.713\n",
            "  garbage 1.717\n",
            "  worry 1.726\n",
            "the 36\n",
            "  a 1.516\n",
            "  my 1.629\n",
            "  mrs 1.708\n",
            "  his 1.716\n",
            "  another 1.734\n",
            "4 292\n",
            "  specifically 1.629\n",
            "  earlier 1.684\n",
            "  11 1.685\n",
            "  packet 1.702\n",
            "  reduced 1.705\n"
          ],
          "name": "stdout"
        }
      ]
    },
    {
      "cell_type": "markdown",
      "metadata": {
        "id": "ue-9CPSc7fi9",
        "colab_type": "text"
      },
      "source": [
        "We can also cluster the embedding space. Clustering in 4 or more dimensions is hard to visualize, and even clustering in 2 or 3 can be difficult because there are so many words in the vocabulary. One thing we can try to do is assign cluster labels and qualitiatively look for an underlying pattern in the clusters."
      ]
    },
    {
      "cell_type": "code",
      "metadata": {
        "id": "v-Yf6NMCXVx4",
        "colab_type": "code",
        "colab": {
          "base_uri": "https://localhost:8080/",
          "height": 1000
        },
        "outputId": "91543a2e-9d9c-4c34-afcc-aa2bc19880fb"
      },
      "source": [
        "from sklearn.cluster import KMeans\n",
        "\n",
        "indices = KMeans(n_clusters=10).fit_predict(reps_word2vec)\n",
        "zipped = list(zip(range(vectorizer.tokenizer.vocab_size), indices))\n",
        "np.random.shuffle(zipped)\n",
        "zipped = zipped[:100]\n",
        "zipped = sorted(zipped, key=lambda x: x[1])\n",
        "for token, cluster_idx in zipped:\n",
        "  word = vectorizer.tokenizer.token_to_word[token]\n",
        "  print(f\"{word}: {cluster_idx}\")"
      ],
      "execution_count": 26,
      "outputs": [
        {
          "output_type": "stream",
          "text": [
            "disappointed: 0\n",
            "un: 0\n",
            "fiber: 0\n",
            "cubes: 1\n",
            "general: 1\n",
            "without: 1\n",
            "kind: 1\n",
            "him: 1\n",
            "its: 1\n",
            "still: 1\n",
            "starbucks: 1\n",
            "im: 2\n",
            "spread: 2\n",
            "change: 2\n",
            "suggest: 2\n",
            "bought: 2\n",
            "go: 2\n",
            "update: 2\n",
            "learned: 2\n",
            "mean: 2\n",
            "description: 2\n",
            "rate: 2\n",
            "decide: 2\n",
            "that's: 2\n",
            "potassium: 3\n",
            "plus: 3\n",
            "target: 3\n",
            "double: 3\n",
            "moved: 4\n",
            "below: 4\n",
            "lunches: 4\n",
            "filled: 4\n",
            "given: 4\n",
            "cookies: 4\n",
            "warning: 4\n",
            "needed: 4\n",
            "artificial: 4\n",
            "solid: 4\n",
            "will: 4\n",
            "zero: 4\n",
            "buying: 5\n",
            "amazing: 5\n",
            "caffeine: 5\n",
            "crackers: 5\n",
            "expiration: 5\n",
            "40: 5\n",
            "unfortunately: 5\n",
            "shipment: 5\n",
            "next: 5\n",
            "muffin: 6\n",
            "brewer: 6\n",
            "someone: 6\n",
            "living: 6\n",
            "calcium: 6\n",
            "lasts: 6\n",
            "teeth: 7\n",
            "pieces: 7\n",
            "prime: 7\n",
            "beer: 7\n",
            "months: 7\n",
            "subtle: 7\n",
            "ok: 7\n",
            "help: 7\n",
            "average: 7\n",
            "bad: 7\n",
            "has: 7\n",
            "puppy: 7\n",
            "something: 7\n",
            "beef: 7\n",
            "pouch: 7\n",
            "doesn't: 7\n",
            "granted: 7\n",
            "we: 7\n",
            "packing: 7\n",
            "holes: 7\n",
            "fall: 8\n",
            "birthday: 8\n",
            "seen: 9\n",
            "caramels: 9\n",
            "than: 9\n",
            "large: 9\n",
            "eaten: 9\n",
            "hint: 9\n",
            "excellent: 9\n",
            "classic: 9\n",
            "lays: 9\n",
            "reviews: 9\n",
            "worked: 9\n",
            "nearly: 9\n",
            "coffee: 9\n",
            "times: 9\n",
            "plum: 9\n",
            "never: 9\n",
            "treats: 9\n",
            "morning: 9\n",
            "fruit: 9\n",
            "truly: 9\n",
            "mill: 9\n",
            "colors: 9\n",
            "rica: 9\n"
          ],
          "name": "stdout"
        }
      ]
    },
    {
      "cell_type": "markdown",
      "metadata": {
        "id": "ci1TkENU78Wn",
        "colab_type": "text"
      },
      "source": [
        "Finally, we can use the trained word embeddings to construct vector representations of full reviews. One common approach is to simply average all the word embeddings in the review to create an overall embedding. Implement the transform function in Word2VecFeaturizer to do this."
      ]
    },
    {
      "cell_type": "code",
      "metadata": {
        "id": "A5vjmRV6Dgbu",
        "colab_type": "code",
        "colab": {
          "base_uri": "https://localhost:8080/",
          "height": 70
        },
        "outputId": "606116c0-a6e4-4e69-d084-15a41918592f"
      },
      "source": [
        "def word2vec_lsa_featurizer(xs):\n",
        "  feats = xs@reps_word2vec # Your code here!\n",
        "\n",
        "  # normalize\n",
        "  return feats / np.sqrt((feats ** 2).sum(axis=1, keepdims=True))\n",
        "\n",
        "training_experiment(\"word2vec\", word2vec_lsa_featurizer, 10)"
      ],
      "execution_count": 31,
      "outputs": [
        {
          "output_type": "stream",
          "text": [
            "word2vec features, 10 examples\n",
            "test accuracy 0.532\n",
            "\n"
          ],
          "name": "stdout"
        }
      ]
    },
    {
      "cell_type": "markdown",
      "metadata": {
        "id": "XSfoQbxaXtfH",
        "colab_type": "text"
      },
      "source": [
        "**Part 2: Lab writeup**\n",
        "\n",
        "Part 2 of your lab report should discuss any implementation details that were important to filling out the code above. Then, use the code to set up experiments that answer the following questions:\n",
        "\n",
        "1. Qualitatively, what do you observe about nearest neighbors in representation space? (E.g. what words are most similar to _the_, _dog_, _3_, and _good_?) How well do word2vec representations correspond to your intuitions about word similarity?\n",
        "\n",
        "2. One important parameter in word2vec-style models is context size. How does changing the context size affect the kinds of representations that are learned?\n",
        "\n",
        "3. How do results on the downstream classification problem compare to \n",
        "   part 1?\n",
        "\n",
        "4. What are some advantages and disadvantages of learned embedding representations, relative to the featurization done in part 1?\n",
        "\n",
        "5. What are some potential problems with constructing a representation of the review by averaging the embeddings of the individual words?"
      ]
    },
    {
      "cell_type": "code",
      "metadata": {
        "id": "OvHhQVGaF4xt",
        "colab_type": "code",
        "colab": {
          "base_uri": "https://localhost:8080/",
          "height": 1000
        },
        "outputId": "dfb4febe-1aa1-44fe-e1fa-c154cd1acf88"
      },
      "source": [
        "context_sizes = [1, 2, 3, 5, 10, 20, 30, 50]\n",
        "for csz in context_sizes:\n",
        "  print(\"Context window size: \", csz)\n",
        "  reps_word2vec_test = learn_reps_word2vec(train_reviews, csz, 500, 10, 100)\n",
        "  lab_util.show_similar_words(vectorizer.tokenizer, reps_word2vec_test, show_tokens)\n",
        "  print()"
      ],
      "execution_count": 30,
      "outputs": [
        {
          "output_type": "stream",
          "text": [
            "Context window size:  1\n",
            "good 47\n",
            "  custard 1.651\n",
            "  nice 1.699\n",
            "  bland 1.702\n",
            "  handy 1.704\n",
            "  batches 1.709\n",
            "bad 201\n",
            "  cons 1.703\n",
            "  messy 1.705\n",
            "  inches 1.707\n",
            "  pound 1.708\n",
            "  pleasant 1.709\n",
            "cookie 504\n",
            "  personally 1.679\n",
            "  highly 1.683\n",
            "  boy 1.688\n",
            "  support 1.693\n",
            "  cholesterol 1.719\n",
            "jelly 351\n",
            "  zip 1.645\n",
            "  strawberry 1.665\n",
            "  dogs 1.697\n",
            "  things 1.713\n",
            "  training 1.714\n",
            "dog 925\n",
            "  vet 1.681\n",
            "  serving 1.683\n",
            "  china 1.689\n",
            "  animal 1.715\n",
            "  review 1.717\n",
            "the 36\n",
            "  my 1.588\n",
            "  a 1.629\n",
            "  their 1.651\n",
            "  this 1.675\n",
            "  effects 1.684\n",
            "4 292\n",
            "  30 1.643\n",
            "  interested 1.653\n",
            "  bills 1.677\n",
            "  power 1.693\n",
            "  directly 1.716\n",
            "\n",
            "Context window size:  2\n",
            "good 47\n",
            "  suppose 1.697\n",
            "  me 1.700\n",
            "  by 1.702\n",
            "  change 1.718\n",
            "  rich 1.729\n",
            "bad 201\n",
            "  worth 1.709\n",
            "  weird 1.714\n",
            "  http 1.733\n",
            "  bitter 1.735\n",
            "  whatever 1.743\n",
            "cookie 504\n",
            "  review 1.709\n",
            "  holds 1.714\n",
            "  carbonated 1.745\n",
            "  spices 1.748\n",
            "  sounds 1.750\n",
            "jelly 351\n",
            "  mine 1.680\n",
            "  broken 1.704\n",
            "  hydrogenated 1.709\n",
            "  reasonable 1.721\n",
            "  each 1.727\n",
            "dog 925\n",
            "  pour 1.612\n",
            "  bbq 1.708\n",
            "  smell 1.719\n",
            "  select 1.726\n",
            "  rating 1.731\n",
            "the 36\n",
            "  my 1.519\n",
            "  a 1.534\n",
            "  this 1.646\n",
            "  an 1.687\n",
            "  mrs 1.689\n",
            "4 292\n",
            "  thrown 1.646\n",
            "  oats 1.659\n",
            "  earlier 1.677\n",
            "  overwhelming 1.703\n",
            "  bean 1.716\n",
            "\n",
            "Context window size:  3\n",
            "good 47\n",
            "  fine 1.677\n",
            "  life 1.693\n",
            "  increase 1.709\n",
            "  allergic 1.712\n",
            "  healthier 1.717\n",
            "bad 201\n",
            "  13 1.706\n",
            "  ok 1.717\n",
            "  overwhelming 1.723\n",
            "  backyard 1.726\n",
            "  mistake 1.727\n",
            "cookie 504\n",
            "  hour 1.686\n",
            "  pan 1.703\n",
            "  mom 1.714\n",
            "  result 1.721\n",
            "  merchant 1.724\n",
            "jelly 351\n",
            "  received 1.702\n",
            "  may 1.713\n",
            "  throughout 1.715\n",
            "  salty 1.721\n",
            "  allergic 1.733\n",
            "dog 925\n",
            "  caviar 1.644\n",
            "  kernels 1.684\n",
            "  parents 1.702\n",
            "  lower 1.710\n",
            "  themselves 1.724\n",
            "the 36\n",
            "  a 1.611\n",
            "  my 1.678\n",
            "  your 1.696\n",
            "  this 1.710\n",
            "  their 1.740\n",
            "4 292\n",
            "  makes 1.713\n",
            "  gatorade 1.720\n",
            "  house 1.730\n",
            "  puppy 1.754\n",
            "  known 1.755\n",
            "\n",
            "Context window size:  5\n",
            "good 47\n",
            "  green 1.713\n",
            "  fine 1.716\n",
            "  decent 1.724\n",
            "  soon 1.742\n",
            "  mild 1.748\n",
            "bad 201\n",
            "  17 1.724\n",
            "  strange 1.730\n",
            "  trust 1.732\n",
            "  overpowering 1.750\n",
            "  salty 1.750\n",
            "cookie 504\n",
            "  carrot 1.708\n",
            "  supermarket 1.711\n",
            "  family 1.719\n",
            "  death 1.729\n",
            "  disappointed 1.736\n",
            "jelly 351\n",
            "  superior 1.661\n",
            "  outstanding 1.702\n",
            "  scent 1.720\n",
            "  name 1.738\n",
            "  fit 1.745\n",
            "dog 925\n",
            "  guy 1.702\n",
            "  son 1.733\n",
            "  test 1.739\n",
            "  favorite 1.740\n",
            "  value 1.744\n",
            "the 36\n",
            "  a 1.400\n",
            "  this 1.705\n",
            "  my 1.710\n",
            "  it 1.721\n",
            "  full 1.744\n",
            "4 292\n",
            "  peanut 1.685\n",
            "  complaints 1.717\n",
            "  sweeter 1.724\n",
            "  pocky 1.727\n",
            "  range 1.765\n",
            "\n",
            "Context window size:  10\n",
            "good 47\n",
            "  design 1.685\n",
            "  fine 1.708\n",
            "  saying 1.734\n",
            "  pain 1.740\n",
            "  problem 1.742\n",
            "bad 201\n",
            "  sodas 1.637\n",
            "  clearly 1.695\n",
            "  cooking 1.705\n",
            "  stomach 1.733\n",
            "  thin 1.733\n",
            "cookie 504\n",
            "  vanilla 1.694\n",
            "  thinking 1.694\n",
            "  substitute 1.711\n",
            "  craving 1.732\n",
            "  sorry 1.734\n",
            "jelly 351\n",
            "  making 1.691\n",
            "  house 1.706\n",
            "  tender 1.734\n",
            "  same 1.738\n",
            "  he's 1.749\n",
            "dog 925\n",
            "  24 1.742\n",
            "  house 1.747\n",
            "  sports 1.752\n",
            "  serious 1.754\n",
            "  asian 1.754\n",
            "the 36\n",
            "  a 1.366\n",
            "  this 1.499\n",
            "  my 1.548\n",
            "  it 1.563\n",
            "  their 1.656\n",
            "4 292\n",
            "  plenty 1.716\n",
            "  chinese 1.745\n",
            "  weather 1.746\n",
            "  slowly 1.747\n",
            "  club 1.759\n",
            "\n",
            "Context window size:  20\n",
            "good 47\n",
            "  crust 1.674\n",
            "  great 1.727\n",
            "  jelly 1.735\n",
            "  tangerine 1.737\n",
            "  greta 1.743\n",
            "bad 201\n",
            "  texture 1.698\n",
            "  goodness 1.703\n",
            "  nasty 1.718\n",
            "  plug 1.733\n",
            "  natural 1.738\n",
            "cookie 504\n",
            "  dollar 1.683\n",
            "  off 1.687\n",
            "  overly 1.723\n",
            "  sauces 1.728\n",
            "  again 1.731\n",
            "jelly 351\n",
            "  www 1.658\n",
            "  stays 1.672\n",
            "  special 1.729\n",
            "  good 1.735\n",
            "  totally 1.739\n",
            "dog 925\n",
            "  hand 1.716\n",
            "  hours 1.728\n",
            "  grams 1.728\n",
            "  requires 1.742\n",
            "  entirely 1.743\n",
            "the 36\n",
            "  a 1.272\n",
            "  it 1.615\n",
            "  my 1.681\n",
            "  this 1.692\n",
            "  any 1.724\n",
            "4 292\n",
            "  80 1.639\n",
            "  level 1.700\n",
            "  ruin 1.706\n",
            "  company 1.739\n",
            "  balance 1.739\n",
            "\n",
            "Context window size:  30\n",
            "good 47\n",
            "  chemical 1.705\n",
            "  7 1.717\n",
            "  advertised 1.727\n",
            "  interested 1.734\n",
            "  out 1.738\n",
            "bad 201\n",
            "  kid 1.740\n",
            "  stay 1.740\n",
            "  mentioned 1.754\n",
            "  mountain 1.756\n",
            "  smooth 1.756\n",
            "cookie 504\n",
            "  beware 1.702\n",
            "  suggest 1.734\n",
            "  taking 1.739\n",
            "  she 1.745\n",
            "  izze 1.746\n",
            "jelly 351\n",
            "  smell 1.693\n",
            "  giving 1.708\n",
            "  current 1.738\n",
            "  corn 1.739\n",
            "  its 1.742\n",
            "dog 925\n",
            "  result 1.647\n",
            "  complaints 1.696\n",
            "  guy 1.746\n",
            "  carbonated 1.750\n",
            "  fried 1.756\n",
            "the 36\n",
            "  a 1.320\n",
            "  this 1.562\n",
            "  it 1.564\n",
            "  my 1.691\n",
            "  terrific 1.705\n",
            "4 292\n",
            "  because 1.705\n",
            "  cherry 1.728\n",
            "  company 1.730\n",
            "  taking 1.739\n",
            "  dried 1.739\n",
            "\n",
            "Context window size:  50\n",
            "good 47\n",
            "  great 1.538\n",
            "  k 1.685\n",
            "  yourself 1.713\n",
            "  buds 1.745\n",
            "  rich 1.754\n",
            "bad 201\n",
            "  on 1.741\n",
            "  gotten 1.743\n",
            "  through 1.748\n",
            "  sauce 1.758\n",
            "  superior 1.761\n",
            "cookie 504\n",
            "  salt 1.716\n",
            "  incredible 1.737\n",
            "  happy 1.742\n",
            "  photo 1.746\n",
            "  bite 1.748\n",
            "jelly 351\n",
            "  roast 1.709\n",
            "  hopes 1.713\n",
            "  shop 1.723\n",
            "  aftertaste 1.744\n",
            "  b 1.754\n",
            "dog 925\n",
            "  hydrogenated 1.701\n",
            "  msg 1.713\n",
            "  near 1.720\n",
            "  favorite 1.727\n",
            "  addicted 1.737\n",
            "the 36\n",
            "  a 1.485\n",
            "  this 1.554\n",
            "  it 1.577\n",
            "  any 1.656\n",
            "  she 1.695\n",
            "4 292\n",
            "  enough 1.728\n",
            "  0 1.734\n",
            "  granted 1.749\n",
            "  later 1.751\n",
            "  because 1.758\n",
            "\n"
          ],
          "name": "stdout"
        }
      ]
    },
    {
      "cell_type": "code",
      "metadata": {
        "id": "bLVTSU0YOGAH",
        "colab_type": "code",
        "colab": {}
      },
      "source": [
        "train_sizes = [10, 20, 30, 50, 75, 100, 200, 300, 500, 750, 1000, 1500, 2000, 2500, 3000]\n",
        "\n",
        "word2vec_500_results = []\n",
        "\n",
        "reps_word2vec = learn_reps_word2vec(train_reviews, 2, 500, 10, 100)\n",
        "\n",
        "for n in train_sizes:\n",
        "    word2vec_500_results.append(training_experiment(\"word2vec\", word2vec_lsa_featurizer, n, verbose=False))"
      ],
      "execution_count": 0,
      "outputs": []
    },
    {
      "cell_type": "code",
      "metadata": {
        "id": "nBFq3CbYOVRW",
        "colab_type": "code",
        "colab": {
          "base_uri": "https://localhost:8080/",
          "height": 404
        },
        "outputId": "4b604f3c-35df-4853-98b9-1c9855193d7f"
      },
      "source": [
        "plt.figure(figsize=(6, 6))\n",
        "plt.plot(train_sizes, word2vec_500_results, label=\"word2vec\")\n",
        "plt.legend(loc = \"lower right\")\n",
        "plt.title('Test Accuracy of Word2Vec on Different Train Data Sizes')\n",
        "plt.xlabel('Number of Train Examples')\n",
        "plt.ylabel('Test Accuracy')\n",
        "\n",
        "plt.savefig('word2vec_e500.png')\n",
        "plt.show()"
      ],
      "execution_count": 36,
      "outputs": [
        {
          "output_type": "display_data",
          "data": {
            "image/png": "[encoded data removed]",
            "text/plain": [
              "<Figure size 432x432 with 1 Axes>"
            ]
          },
          "metadata": {
            "tags": []
          }
        }
      ]
    },
    {
      "cell_type": "code",
      "metadata": {
        "id": "gfGIhr5tOsYn",
        "colab_type": "code",
        "colab": {}
      },
      "source": [
        "files.download('word2vec_e500.png')"
      ],
      "execution_count": 0,
      "outputs": []
    },
    {
      "cell_type": "code",
      "metadata": {
        "id": "Zv9D0C0YPEPe",
        "colab_type": "code",
        "colab": {
          "base_uri": "https://localhost:8080/",
          "height": 404
        },
        "outputId": "b010a969-d496-4f65-b014-00739b50d880"
      },
      "source": [
        "plt.figure(figsize=(6, 6))\n",
        "plt.plot(train_sizes, lsa_500_results, label=\"lsa\")\n",
        "plt.plot(train_sizes, word2vec_500_results, label=\"word2vec\")\n",
        "plt.legend(loc = \"lower right\")\n",
        "plt.title('Test Accuracy of LSA and Word2Vec on Different Train Data Sizes')\n",
        "plt.xlabel('Number of Train Examples')\n",
        "plt.ylabel('Test Accuracy')\n",
        "\n",
        "plt.savefig('word2vec-vs-lsa_e500.png')\n",
        "plt.show()"
      ],
      "execution_count": 41,
      "outputs": [
        {
          "output_type": "display_data",
          "data": {
            "image/png": "[encoded data removed]",
            "text/plain": [
              "<Figure size 432x432 with 1 Axes>"
            ]
          },
          "metadata": {
            "tags": []
          }
        }
      ]
    },
    {
      "cell_type": "code",
      "metadata": {
        "id": "YcqP5jIIPLse",
        "colab_type": "code",
        "colab": {}
      },
      "source": [
        "files.download('word2vec-vs-lsa_e500.png')"
      ],
      "execution_count": 0,
      "outputs": []
    },
    {
      "cell_type": "code",
      "metadata": {
        "id": "_nzdgV2pMuIy",
        "colab_type": "code",
        "colab": {}
      },
      "source": [
        "embedding_sizes = [10, 50, 100, 500, 1000, 2000]\n",
        "train_sizes = [10, 20, 30, 50, 75, 100, 200, 300, 500, 750, 1000, 1500, 2000, 2500, 3000]\n",
        "\n",
        "word2vec_results = {esz: [] for esz in embedding_sizes}\n",
        "\n",
        "for embed_sz in embedding_sizes:\n",
        "    reps_word2vec = learn_reps_word2vec(train_reviews, 2, embed_sz, 10, 100)\n",
        "\n",
        "    for n in train_sizes:\n",
        "        word2vec_results[embed_sz].append(training_experiment(\"word2vec\", word2vec_lsa_featurizer, n, verbose=False))"
      ],
      "execution_count": 0,
      "outputs": []
    },
    {
      "cell_type": "code",
      "metadata": {
        "id": "9EREd9fZRgw-",
        "colab_type": "code",
        "colab": {
          "base_uri": "https://localhost:8080/",
          "height": 431
        },
        "outputId": "35f5e9fc-8aee-4c02-b211-b277f536686a"
      },
      "source": [
        "nrow = 2\n",
        "ncol = 3\n",
        "fig, axs = plt.subplots(nrow, ncol, figsize=(9,6), sharex = True, sharey=True)\n",
        "for i, embed_sz in enumerate(embedding_sizes):\n",
        "    axs[i//ncol, i%ncol].plot(train_sizes, word_embed_results[embed_sz][\"lsa\"], label=\"lsa\")\n",
        "    axs[i//ncol, i%ncol].plot(train_sizes, word2vec_results[embed_sz], label=\"word2vec\")\n",
        "    axs[i//ncol, i%ncol].set_title('Embedding Size of {}'.format(embed_sz))\n",
        "\n",
        "for ax in axs.flat:\n",
        "    ax.set(xlabel='Number of Train Examples', ylabel='Test Accuracy')\n",
        "\n",
        "# Hide x labels and tick labels for top plots and y ticks for right plots.\n",
        "for ax in axs.flat:\n",
        "    ax.label_outer()\n",
        "\n",
        "plt.legend(loc = \"lower right\")\n",
        "plt.suptitle('Test Accuracy of LSA and Word2Vec on Different Train Data Sizes')\n",
        "# plt.subplots_adjust(hspace=0.2)\n",
        "\n",
        "plt.savefig('lsa-word2vec_embed-ntrain.png')\n",
        "files.download('lsa-word2vec_embed-ntrain.png')\n",
        "plt.show()"
      ],
      "execution_count": 58,
      "outputs": [
        {
          "output_type": "display_data",
          "data": {
            "image/png": "[encoded data removed]",
            "text/plain": [
              "<Figure size 648x432 with 6 Axes>"
            ]
          },
          "metadata": {
            "tags": []
          }
        }
      ]
    },
    {
      "cell_type": "code",
      "metadata": {
        "id": "uoBCRBUyR1tW",
        "colab_type": "code",
        "colab": {}
      },
      "source": [
        ""
      ],
      "execution_count": 0,
      "outputs": []
    }
  ]
}