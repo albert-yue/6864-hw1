{
  "nbformat": 4,
  "nbformat_minor": 0,
  "metadata": {
    "colab": {
      "name": "6864-hw1",
      "provenance": [],
      "collapsed_sections": [],
      "machine_shape": "hm",
      "include_colab_link": true
    },
    "kernelspec": {
      "name": "python3",
      "display_name": "Python 3"
    },
    "accelerator": "GPU"
  },
  "cells": [
    {
      "cell_type": "markdown",
      "metadata": {
        "id": "view-in-github",
        "colab_type": "text"
      },
      "source": [
        "<a href=\"https://colab.research.google.com/github/albert-yue/6864-hw1/blob/master/6864_hw1.ipynb\" target=\"_parent\"><img src=\"https://colab.research.google.com/assets/colab-badge.svg\" alt=\"Open In Colab\"/></a>"
      ]
    },
    {
      "cell_type": "code",
      "metadata": {
        "id": "FU7xWiY6TyWS",
        "colab_type": "code",
        "outputId": "62de0646-3db2-4d14-8e12-e6bec982c0ee",
        "colab": {
          "base_uri": "https://localhost:8080/",
          "height": 35
        }
      },
      "source": [
        "%%bash\n",
        "!(stat -t /usr/local/lib/*/dist-packages/google/colab > /dev/null 2>&1) && exit \n",
        "rm -rf 6864-hw1\n",
        "git clone https://github.com/lingo-mit/6864-hw1.git"
      ],
      "execution_count": 1,
      "outputs": [
        {
          "output_type": "stream",
          "text": [
            "Cloning into '6864-hw1'...\n"
          ],
          "name": "stderr"
        }
      ]
    },
    {
      "cell_type": "code",
      "metadata": {
        "id": "A0MHaHrdUACZ",
        "colab_type": "code",
        "colab": {}
      },
      "source": [
        "import sys\n",
        "sys.path.append(\"/content/6864-hw1\")\n",
        "\n",
        "import csv\n",
        "import itertools as it\n",
        "import numpy as np\n",
        "np.random.seed(0)\n",
        "\n",
        "import lab_util"
      ],
      "execution_count": 0,
      "outputs": []
    },
    {
      "cell_type": "code",
      "metadata": {
        "id": "Jpx0bdExJVh-",
        "colab_type": "code",
        "colab": {}
      },
      "source": [
        "from matplotlib import pyplot as plt\n",
        "from google.colab import files"
      ],
      "execution_count": 0,
      "outputs": []
    },
    {
      "cell_type": "markdown",
      "metadata": {
        "id": "cZ3MUj4iUf76",
        "colab_type": "text"
      },
      "source": [
        "## Introduction\n",
        "\n",
        "In this lab, you'll explore three different ways of using unlabeled text data to learn pretrained word representations. Your lab report will describe the effects of different modeling decisions (representation learning objective, context size, etc.) on both qualitative properties of learned representations and their effect on a downstream prediction problem.\n",
        "\n",
        "**General lab report guidelines**\n",
        "\n",
        "Homework assignments should be submitted in the form of a research report. (We'll be providing a place to upload them before the due date, but are still sorting out some logistics.) Please upload PDFs, with a maximum of four single-spaced pages. (If you want you can use the [Association for Computational Linguistics style files](http://acl2020.org/downloads/acl2020-templates.zip).) Reports should have one section for each part of the homework assignment below. Each section should describe the details of your code implementation, and include whatever charts / tables are necessary to answer the set of questions at the end of the corresponding homework part.\n"
      ]
    },
    {
      "cell_type": "markdown",
      "metadata": {
        "id": "gG654Y9J3yHw",
        "colab_type": "text"
      },
      "source": [
        "\n",
        "We're going to be working with a dataset of product reviews. It looks like this:"
      ]
    },
    {
      "cell_type": "code",
      "metadata": {
        "id": "JwiX-Tc9V1xI",
        "colab_type": "code",
        "outputId": "58c118c8-46a2-4d46-ec8a-27f8daf1a980",
        "colab": {
          "base_uri": "https://localhost:8080/",
          "height": 371
        }
      },
      "source": [
        "data = []\n",
        "n_positive = 0\n",
        "n_disp = 0\n",
        "with open(\"/content/6864-hw1/reviews.csv\") as reader:\n",
        "  csvreader = csv.reader(reader)\n",
        "  next(csvreader)\n",
        "  for id, review, label in csvreader:\n",
        "    label = int(label)\n",
        "\n",
        "    # hacky class balancing\n",
        "    if label == 1:\n",
        "      if n_positive == 2000:\n",
        "        continue\n",
        "      n_positive += 1\n",
        "    if len(data) == 4000:\n",
        "      break\n",
        "\n",
        "    data.append((review, label))\n",
        "    \n",
        "    if n_disp > 5:\n",
        "      continue\n",
        "    n_disp += 1\n",
        "    print(\"review:\", review)\n",
        "    print(\"rating:\", label, \"(good)\" if label == 1 else \"(bad)\")\n",
        "    print()\n",
        "\n",
        "print(f\"Read {len(data)} total reviews.\")\n",
        "np.random.shuffle(data)\n",
        "reviews, labels = zip(*data)\n",
        "train_reviews = reviews[:3000]\n",
        "train_labels = labels[:3000]\n",
        "val_reviews = reviews[3000:3500]\n",
        "val_labels = labels[3000:3500]\n",
        "test_reviews = reviews[3500:]\n",
        "test_labels = labels[3500:]"
      ],
      "execution_count": 4,
      "outputs": [
        {
          "output_type": "stream",
          "text": [
            "review: I have bought several of the Vitality canned dog food products and have found them all to be of good quality. The product looks more like a stew than a processed meat and it smells better. My Labrador is finicky and she appreciates this product better than  most.\n",
            "rating: 1 (good)\n",
            "\n",
            "review: Product arrived labeled as Jumbo Salted Peanuts...the peanuts were actually small sized unsalted. Not sure if this was an error or if the vendor intended to represent the product as \"Jumbo\".\n",
            "rating: 0 (bad)\n",
            "\n",
            "review: This is a confection that has been around a few centuries.  It is a light, pillowy citrus gelatin with nuts - in this case Filberts. And it is cut into tiny squares and then liberally coated with powdered sugar.  And it is a tiny mouthful of heaven.  Not too chewy, and very flavorful.  I highly recommend this yummy treat.  If you are familiar with the story of C.S. Lewis' \"The Lion, The Witch, and The Wardrobe\" - this is the treat that seduces Edmund into selling out his Brother and Sisters to the Witch.\n",
            "rating: 1 (good)\n",
            "\n",
            "review: If you are looking for the secret ingredient in Robitussin I believe I have found it.  I got this in addition to the Root Beer Extract I ordered (which was good) and made some cherry soda.  The flavor is very medicinal.\n",
            "rating: 0 (bad)\n",
            "\n",
            "review: Great taffy at a great price.  There was a wide assortment of yummy taffy.  Delivery was very quick.  If your a taffy lover, this is a deal.\n",
            "rating: 1 (good)\n",
            "\n",
            "review: I got a wild hair for taffy and ordered this five pound bag. The taffy was all very enjoyable with many flavors: watermelon, root beer, melon, peppermint, grape, etc. My only complaint is there was a bit too much red/black licorice-flavored pieces (just not my particular favorites). Between me, my kids, and my husband, this lasted only two weeks! I would recommend this brand of taffy -- it was a delightful treat.\n",
            "rating: 1 (good)\n",
            "\n",
            "Read 4000 total reviews.\n"
          ],
          "name": "stdout"
        }
      ]
    },
    {
      "cell_type": "markdown",
      "metadata": {
        "id": "8h4k40QoXFO5",
        "colab_type": "text"
      },
      "source": [
        "We've provided a little bit of helper code for reading in the dataset; your job is to implement the learning!"
      ]
    },
    {
      "cell_type": "markdown",
      "metadata": {
        "id": "twLHWqM6Z5xD",
        "colab_type": "text"
      },
      "source": [
        "## Part 1: word representations via matrix factorization\n",
        "\n",
        "First, we'll construct the term--document matrix (look at `/content/6864-hw1/lab_util.py` in the file browser on the left if you want to see how this works)."
      ]
    },
    {
      "cell_type": "code",
      "metadata": {
        "id": "3WPt6Y7-Z_7P",
        "colab_type": "code",
        "outputId": "d0f23a65-abec-4b5b-93a4-39bf62fd50a3",
        "colab": {
          "base_uri": "https://localhost:8080/",
          "height": 35
        }
      },
      "source": [
        "vectorizer = lab_util.CountVectorizer()\n",
        "vectorizer.fit(train_reviews)\n",
        "td_matrix = vectorizer.transform(train_reviews).T\n",
        "print(f\"TD matrix is {td_matrix.shape[0]} x {td_matrix.shape[1]}\")"
      ],
      "execution_count": 5,
      "outputs": [
        {
          "output_type": "stream",
          "text": [
            "TD matrix is 2006 x 3000\n"
          ],
          "name": "stdout"
        }
      ]
    },
    {
      "cell_type": "markdown",
      "metadata": {
        "id": "hd3-pw4XbD4B",
        "colab_type": "text"
      },
      "source": [
        "First, implement a function that computes word representations via latent semantic analysis:"
      ]
    },
    {
      "cell_type": "code",
      "metadata": {
        "id": "KASVs8KubeBE",
        "colab_type": "code",
        "colab": {}
      },
      "source": [
        "from numpy.linalg import svd\n",
        "\n",
        "def learn_reps_lsa(matrix, rep_size):\n",
        "  # `matrix` is a `|V| x n` matrix, where `|V|` is the number of words in the\n",
        "  # vocabulary. This function should return a `|V| x rep_size` matrix with each\n",
        "  # row corresponding to a word representation. The `sklearn.decomposition` \n",
        "  # package may be useful.\n",
        "\n",
        "  u, _, _ = svd(matrix)\n",
        "  return u[:, :rep_size]"
      ],
      "execution_count": 0,
      "outputs": []
    },
    {
      "cell_type": "markdown",
      "metadata": {
        "id": "SKWzRC0dclVK",
        "colab_type": "text"
      },
      "source": [
        "Let's look at some representations:"
      ]
    },
    {
      "cell_type": "code",
      "metadata": {
        "id": "-Ad7RZkwceWw",
        "colab_type": "code",
        "outputId": "abafb84a-cf93-4657-f74d-292bf7ba08a1",
        "colab": {
          "base_uri": "https://localhost:8080/",
          "height": 756
        }
      },
      "source": [
        "reps = learn_reps_lsa(td_matrix, 500)\n",
        "words = [\"good\", \"bad\", \"cookie\", \"jelly\", \"dog\", \"the\", \"4\"]\n",
        "show_tokens = [vectorizer.tokenizer.word_to_token[word] for word in words]\n",
        "lab_util.show_similar_words(vectorizer.tokenizer, reps, show_tokens)"
      ],
      "execution_count": 7,
      "outputs": [
        {
          "output_type": "stream",
          "text": [
            "good 47\n",
            "  gerber 1.873\n",
            "  luck 1.885\n",
            "  crazy 1.890\n",
            "  flaxseed 1.906\n",
            "  suspect 1.907\n",
            "bad 201\n",
            "  disgusting 1.625\n",
            "  horrible 1.776\n",
            "  shortbread 1.778\n",
            "  gone 1.778\n",
            "  dont 1.802\n",
            "cookie 504\n",
            "  nana's 0.964\n",
            "  bars 1.363\n",
            "  odd 1.402\n",
            "  impossible 1.459\n",
            "  cookies 1.484\n",
            "jelly 351\n",
            "  twist 1.099\n",
            "  cardboard 1.197\n",
            "  peanuts 1.311\n",
            "  advertised 1.331\n",
            "  plastic 1.510\n",
            "dog 925\n",
            "  happier 1.670\n",
            "  earlier 1.681\n",
            "  eats 1.702\n",
            "  stays 1.722\n",
            "  standard 1.727\n",
            "the 36\n",
            "  suspect 1.953\n",
            "  flowers 1.961\n",
            "  leaked 1.966\n",
            "  m 1.966\n",
            "  burn 1.967\n",
            "4 292\n",
            "  shortbread 1.674\n",
            "  toast 1.683\n",
            "  mistake 1.690\n",
            "  2nd 1.701\n",
            "  icing 1.723\n"
          ],
          "name": "stdout"
        }
      ]
    },
    {
      "cell_type": "markdown",
      "metadata": {
        "id": "LsOAGLB3iRjT",
        "colab_type": "text"
      },
      "source": [
        "We've been operating on the raw count matrix, but in class we discussed several reweighting schemes aimed at making LSA representations more informative. \n",
        "\n",
        "Here, implement the TF-IDF transform and see how it affects learned representations."
      ]
    },
    {
      "cell_type": "code",
      "metadata": {
        "id": "1y3PmW-IgpqA",
        "colab_type": "code",
        "colab": {}
      },
      "source": [
        "def transform_tfidf(matrix):\n",
        "  # `matrix` is a `|V| x |D|` matrix of raw counts, where `|V|` is the \n",
        "  # vocabulary size and `|D|` is the number of documents in the corpus. This\n",
        "  # function should (nondestructively) return a version of `matrix` with the\n",
        "  # TF-IDF transform appliied.\n",
        "\n",
        "  num_docs = matrix.shape[1]\n",
        "  tf_matrix = matrix.copy()\n",
        "  td_occurrence = np.sum(np.where(tf_matrix > 0, 1, 0), axis=1, keepdims=True)\n",
        "  idf = np.log(num_docs / td_occurrence)\n",
        "  return tf_matrix * idf"
      ],
      "execution_count": 0,
      "outputs": []
    },
    {
      "cell_type": "markdown",
      "metadata": {
        "id": "xOprgqzHi7bk",
        "colab_type": "text"
      },
      "source": [
        "How does this change the learned similarity function?"
      ]
    },
    {
      "cell_type": "code",
      "metadata": {
        "id": "SV5xKLYTi7LA",
        "colab_type": "code",
        "outputId": "bbab8942-9044-4455-f5f1-bf0bd47938d5",
        "colab": {
          "base_uri": "https://localhost:8080/",
          "height": 756
        }
      },
      "source": [
        "td_matrix_tfidf = transform_tfidf(td_matrix)\n",
        "reps_tfidf = learn_reps_lsa(td_matrix_tfidf, 500)\n",
        "lab_util.show_similar_words(vectorizer.tokenizer, reps_tfidf, show_tokens)"
      ],
      "execution_count": 9,
      "outputs": [
        {
          "output_type": "stream",
          "text": [
            "good 47\n",
            "  crazy 1.695\n",
            "  gerber 1.753\n",
            "  beat 1.758\n",
            "  homemade 1.785\n",
            "  tasting 1.799\n",
            "bad 201\n",
            "  disgusting 1.623\n",
            "  awful 1.713\n",
            "  positive 1.715\n",
            "  bland 1.731\n",
            "  gone 1.736\n",
            "cookie 504\n",
            "  nana's 1.103\n",
            "  moist 1.388\n",
            "  odd 1.452\n",
            "  impossible 1.486\n",
            "  needs 1.509\n",
            "jelly 351\n",
            "  twist 1.156\n",
            "  cardboard 1.211\n",
            "  advertised 1.402\n",
            "  plum 1.447\n",
            "  sold 1.470\n",
            "dog 925\n",
            "  happier 1.641\n",
            "  earlier 1.658\n",
            "  foods 1.690\n",
            "  stays 1.697\n",
            "  eats 1.704\n",
            "the 36\n",
            "  <unk> 1.478\n",
            "  and 1.578\n",
            "  . 1.581\n",
            "  of 1.627\n",
            "  is 1.632\n",
            "4 292\n",
            "  mistake 1.687\n",
            "  2nd 1.707\n",
            "  toast 1.708\n",
            "  table 1.714\n",
            "  70 1.723\n"
          ],
          "name": "stdout"
        }
      ]
    },
    {
      "cell_type": "markdown",
      "metadata": {
        "id": "HO-NG4u1kG9z",
        "colab_type": "text"
      },
      "source": [
        "Now that we have some representations, let's see if we can do something useful with them.\n",
        "\n",
        "Below, implement a feature function that represents a document as the sum of its\n",
        "learned word embeddings.\n",
        "\n",
        "The remaining code trains a logistic regression model on a set of *labeled* reviews; we're interested in seeing how much representations learned from *unlabeled* reviews improve classification."
      ]
    },
    {
      "cell_type": "code",
      "metadata": {
        "id": "6B08xvIFlee3",
        "colab_type": "code",
        "outputId": "eb2d830c-9a4e-4378-b8dc-6867e4401527",
        "colab": {
          "base_uri": "https://localhost:8080/",
          "height": 193
        }
      },
      "source": [
        "def word_featurizer(xs):\n",
        "  # normalize\n",
        "  return xs / np.sqrt((xs ** 2).sum(axis=1, keepdims=True))\n",
        "\n",
        "def lsa_featurizer(xs):\n",
        "  # This function takes in a matrix in which each row contains the word counts\n",
        "  # for the given review. It should return a matrix in which each row contains\n",
        "  # the learned feature representation of each review (e.g. the sum of LSA \n",
        "  # word representations).\n",
        "\n",
        "  feats = xs@reps_tfidf\n",
        "\n",
        "  # normalize\n",
        "  return feats / np.sqrt((feats ** 2).sum(axis=1, keepdims=True))\n",
        "\n",
        "def combo_featurizer(xs):\n",
        "  return np.concatenate((word_featurizer(xs), lsa_featurizer(xs)), axis=1)\n",
        "\n",
        "def train_model(featurizer, xs, ys):\n",
        "  import sklearn.linear_model\n",
        "  xs_featurized = featurizer(xs)\n",
        "  model = sklearn.linear_model.LogisticRegression()\n",
        "  model.fit(xs_featurized, ys)\n",
        "  return model\n",
        "\n",
        "def eval_model(model, featurizer, xs, ys, verbose=True):\n",
        "  xs_featurized = featurizer(xs)\n",
        "  pred_ys = model.predict(xs_featurized)\n",
        "  acc = np.mean(pred_ys == ys)\n",
        "  if verbose: print(\"test accuracy\", acc)\n",
        "  return acc\n",
        "\n",
        "def training_experiment(name, featurizer, n_train, verbose=True):\n",
        "  if verbose: print(f\"{name} features, {n_train} examples\")\n",
        "  train_xs = vectorizer.transform(train_reviews[:n_train])\n",
        "  train_ys = train_labels[:n_train]\n",
        "  test_xs = vectorizer.transform(test_reviews)\n",
        "  test_ys = test_labels\n",
        "  model = train_model(featurizer, train_xs, train_ys)\n",
        "  acc = eval_model(model, featurizer, test_xs, test_ys, verbose=verbose)\n",
        "  if verbose: print()\n",
        "  return acc\n",
        "\n",
        "training_experiment(\"word\", word_featurizer, 10)\n",
        "training_experiment(\"lsa\", lsa_featurizer, 10)\n",
        "training_experiment(\"combo\", combo_featurizer, 10)\n",
        "print()"
      ],
      "execution_count": 10,
      "outputs": [
        {
          "output_type": "stream",
          "text": [
            "word features, 10 examples\n",
            "test accuracy 0.496\n",
            "\n",
            "lsa features, 10 examples\n",
            "test accuracy 0.496\n",
            "\n",
            "combo features, 10 examples\n",
            "test accuracy 0.494\n",
            "\n",
            "\n"
          ],
          "name": "stdout"
        }
      ]
    },
    {
      "cell_type": "markdown",
      "metadata": {
        "id": "rpXziVNrlfp2",
        "colab_type": "text"
      },
      "source": [
        "**Part 1: Lab writeup**\n",
        "\n",
        "Part 1 of your lab report should discuss any implementation details that were important to filling out the code above. Then, use the code to set up experiments that answer the following questions:\n",
        "\n",
        "1. Qualitatively, what do you observe about nearest neighbors in representation    space? (E.g. what words are most similar to _the_, _dog_, _3_, and _good_?)\n",
        "\n",
        "2. How does the size of the LSA representation affect this behavior?\n",
        "\n",
        "\n",
        "3. Recall that the we can compute the word co-occurrence matrix $W_{tt} = W_    \n",
        "   {td} W_{td}^\\top$. What can you prove about the relationship between the    \n",
        "   left singular vectors of $W_{td}$ and $W_{tt}$? Do you observe this behavior \n",
        "   with your implementation of `learn_reps_lsa`? Why or why not?\n",
        "\n",
        "4. Do learned representations help with the review classification problem? What\n",
        "   is the relationship between the number of labeled examples and the effect of\n",
        "   word embeddings?\n",
        "   \n",
        "5. What is the relationship between the size of the word embeddings and their      usefulness for the classification task."
      ]
    },
    {
      "cell_type": "code",
      "metadata": {
        "id": "SOd9ApymO2O0",
        "colab_type": "code",
        "colab": {
          "base_uri": "https://localhost:8080/",
          "height": 1000
        },
        "outputId": "3f813a64-de6a-46e1-bffb-7737bf13e923"
      },
      "source": [
        "train_sizes = [10, 20, 30, 50, 75, 100, 200, 300, 500, 750, 1000, 1500, 2000, 2500, 3000]\n",
        "\n",
        "word_500_results = []\n",
        "lsa_500_results = []\n",
        "combo_500_results = []\n",
        "\n",
        "reps_tfidf = learn_reps_lsa(td_matrix_tfidf, 500)\n",
        "\n",
        "for n in train_sizes:\n",
        "    word_500_results.append(training_experiment(\"word\", word_featurizer, n))\n",
        "    lsa_500_results.append(training_experiment(\"lsa\", lsa_featurizer, n))\n",
        "    combo_500_results.append(training_experiment(\"combo\", combo_featurizer, n))"
      ],
      "execution_count": 11,
      "outputs": [
        {
          "output_type": "stream",
          "text": [
            "word features, 10 examples\n",
            "test accuracy 0.496\n",
            "\n",
            "lsa features, 10 examples\n",
            "test accuracy 0.496\n",
            "\n",
            "combo features, 10 examples\n",
            "test accuracy 0.494\n",
            "\n",
            "word features, 20 examples\n",
            "test accuracy 0.526\n",
            "\n",
            "lsa features, 20 examples\n",
            "test accuracy 0.528\n",
            "\n",
            "combo features, 20 examples\n",
            "test accuracy 0.524\n",
            "\n",
            "word features, 30 examples\n",
            "test accuracy 0.526\n",
            "\n",
            "lsa features, 30 examples\n",
            "test accuracy 0.526\n",
            "\n",
            "combo features, 30 examples\n",
            "test accuracy 0.528\n",
            "\n",
            "word features, 50 examples\n",
            "test accuracy 0.6\n",
            "\n",
            "lsa features, 50 examples\n",
            "test accuracy 0.618\n",
            "\n",
            "combo features, 50 examples\n",
            "test accuracy 0.63\n",
            "\n",
            "word features, 75 examples\n",
            "test accuracy 0.59\n",
            "\n",
            "lsa features, 75 examples\n",
            "test accuracy 0.646\n",
            "\n",
            "combo features, 75 examples\n",
            "test accuracy 0.632\n",
            "\n",
            "word features, 100 examples\n",
            "test accuracy 0.616\n",
            "\n",
            "lsa features, 100 examples\n",
            "test accuracy 0.692\n",
            "\n",
            "combo features, 100 examples\n",
            "test accuracy 0.672\n",
            "\n",
            "word features, 200 examples\n",
            "test accuracy 0.716\n",
            "\n",
            "lsa features, 200 examples\n",
            "test accuracy 0.77\n",
            "\n",
            "combo features, 200 examples\n",
            "test accuracy 0.748\n",
            "\n",
            "word features, 300 examples\n",
            "test accuracy 0.742\n",
            "\n",
            "lsa features, 300 examples\n",
            "test accuracy 0.78\n",
            "\n",
            "combo features, 300 examples\n",
            "test accuracy 0.776\n",
            "\n",
            "word features, 500 examples\n",
            "test accuracy 0.76\n",
            "\n",
            "lsa features, 500 examples\n",
            "test accuracy 0.782\n",
            "\n",
            "combo features, 500 examples\n",
            "test accuracy 0.774\n",
            "\n",
            "word features, 750 examples\n",
            "test accuracy 0.766\n",
            "\n",
            "lsa features, 750 examples\n",
            "test accuracy 0.798\n",
            "\n",
            "combo features, 750 examples\n",
            "test accuracy 0.782\n",
            "\n",
            "word features, 1000 examples\n",
            "test accuracy 0.784\n",
            "\n",
            "lsa features, 1000 examples\n",
            "test accuracy 0.794\n",
            "\n",
            "combo features, 1000 examples\n",
            "test accuracy 0.794\n",
            "\n",
            "word features, 1500 examples\n",
            "test accuracy 0.782\n",
            "\n",
            "lsa features, 1500 examples\n",
            "test accuracy 0.788\n",
            "\n",
            "combo features, 1500 examples\n",
            "test accuracy 0.79\n",
            "\n",
            "word features, 2000 examples\n",
            "test accuracy 0.776\n",
            "\n",
            "lsa features, 2000 examples\n",
            "test accuracy 0.786\n",
            "\n",
            "combo features, 2000 examples\n",
            "test accuracy 0.794\n",
            "\n",
            "word features, 2500 examples\n",
            "test accuracy 0.776\n",
            "\n",
            "lsa features, 2500 examples\n",
            "test accuracy 0.798\n",
            "\n",
            "combo features, 2500 examples\n",
            "test accuracy 0.8\n",
            "\n",
            "word features, 3000 examples\n",
            "test accuracy 0.784\n",
            "\n",
            "lsa features, 3000 examples\n",
            "test accuracy 0.804\n",
            "\n",
            "combo features, 3000 examples\n",
            "test accuracy 0.814\n",
            "\n"
          ],
          "name": "stdout"
        }
      ]
    },
    {
      "cell_type": "code",
      "metadata": {
        "id": "-brmROVLz-4j",
        "colab_type": "code",
        "colab": {
          "base_uri": "https://localhost:8080/",
          "height": 70
        },
        "outputId": "ad5fc10b-b1d6-4110-8de7-150fa95c6329"
      },
      "source": [
        "print(max(word_500_results))\n",
        "print(max(lsa_500_results))\n",
        "print(max(combo_500_results))"
      ],
      "execution_count": 12,
      "outputs": [
        {
          "output_type": "stream",
          "text": [
            "0.784\n",
            "0.804\n",
            "0.814\n"
          ],
          "name": "stdout"
        }
      ]
    },
    {
      "cell_type": "code",
      "metadata": {
        "id": "v3l-v-DFO5Ue",
        "colab_type": "code",
        "outputId": "2410b36a-3279-41fc-d46e-ddf9ae74f386",
        "colab": {
          "base_uri": "https://localhost:8080/",
          "height": 404
        }
      },
      "source": [
        "plt.figure(figsize=(6, 6))\n",
        "plt.plot(train_sizes, word_500_results, label=\"word\")\n",
        "plt.plot(train_sizes, lsa_500_results, label=\"lsa\")\n",
        "plt.plot(train_sizes, combo_500_results, label=\"combo\")\n",
        "plt.legend(loc = \"lower right\")\n",
        "plt.title('Test Accuracy of Various Sets of Features on Different Train Data Sizes')\n",
        "plt.xlabel('Number of Train Examples')\n",
        "plt.ylabel('Test Accuracy')\n",
        "\n",
        "# plt.savefig('word_embed_matrix_e500.png')\n",
        "# files.download('word_embed_matrix_e500.png')\n",
        "plt.show()"
      ],
      "execution_count": 13,
      "outputs": [
        {
          "output_type": "display_data",
          "data": {
            "image/png": "[encoded data removed]",
            "text/plain": [
              "<Figure size 432x432 with 1 Axes>"
            ]
          },
          "metadata": {
            "tags": []
          }
        }
      ]
    },
    {
      "cell_type": "code",
      "metadata": {
        "id": "rLHOb4Kfzubb",
        "colab_type": "code",
        "colab": {
          "base_uri": "https://localhost:8080/",
          "height": 1000
        },
        "outputId": "cc5f6919-d5e6-49dc-b778-db9c91adb321"
      },
      "source": [
        "embedding_sizes = [10, 50, 100, 500, 1000, 2006]\n",
        "for embed_sz in embedding_sizes:\n",
        "    print(\"Embedding size: \", embed_sz)\n",
        "    reps_tfidf = learn_reps_lsa(td_matrix_tfidf, embed_sz)\n",
        "    lab_util.show_similar_words(vectorizer.tokenizer, reps_tfidf, show_tokens)\n",
        "    print()"
      ],
      "execution_count": 14,
      "outputs": [
        {
          "output_type": "stream",
          "text": [
            "Embedding size:  10\n",
            "good 47\n",
            "  very 0.207\n",
            "  . 0.210\n",
            "  p 0.227\n",
            "  sure 0.235\n",
            "  u 0.260\n",
            "bad 201\n",
            "  agree 0.240\n",
            "  entirely 0.274\n",
            "  positive 0.274\n",
            "  forward 0.282\n",
            "  overly 0.285\n",
            "cookie 504\n",
            "  cookies 0.204\n",
            "  muffins 0.261\n",
            "  cake 0.262\n",
            "  tough 0.271\n",
            "  excellent 0.274\n",
            "jelly 351\n",
            "  gifts 0.091\n",
            "  soups 0.098\n",
            "  vanilla 0.112\n",
            "  mixing 0.121\n",
            "  stuck 0.134\n",
            "dog 925\n",
            "  dogs 0.119\n",
            "  him 0.137\n",
            "  baby 0.147\n",
            "  he 0.191\n",
            "  lamb 0.194\n",
            "the 36\n",
            "  have 0.086\n",
            "  in 0.103\n",
            "  . 0.122\n",
            "  be 0.140\n",
            "  that 0.145\n",
            "4 292\n",
            "  1 0.039\n",
            "  6 0.069\n",
            "  5 0.112\n",
            "  protein 0.114\n",
            "  7 0.124\n",
            "\n",
            "Embedding size:  50\n",
            "good 47\n",
            "  quick 0.594\n",
            "  everyone 0.673\n",
            "  decide 0.674\n",
            "  than 0.713\n",
            "  better 0.726\n",
            "bad 201\n",
            "  expect 0.787\n",
            "  feeling 0.853\n",
            "  strange 0.875\n",
            "  just 0.936\n",
            "  about 0.943\n",
            "cookie 504\n",
            "  cookies 0.282\n",
            "  nana's 0.325\n",
            "  oreos 0.634\n",
            "  bars 0.708\n",
            "  shortbread 0.818\n",
            "jelly 351\n",
            "  gifts 0.432\n",
            "  creamer 0.603\n",
            "  online 0.798\n",
            "  milk 0.838\n",
            "  maybe 0.864\n",
            "dog 925\n",
            "  foods 0.574\n",
            "  pet 0.636\n",
            "  nutritious 0.652\n",
            "  pets 0.687\n",
            "  switched 0.719\n",
            "the 36\n",
            "  of 0.723\n",
            "  . 0.775\n",
            "  in 0.824\n",
            "  on 0.926\n",
            "  to 0.930\n",
            "4 292\n",
            "  6 0.361\n",
            "  70 0.542\n",
            "  1 0.625\n",
            "  concentrated 0.666\n",
            "  stevia 0.732\n",
            "\n",
            "Embedding size:  100\n",
            "good 47\n",
            "  everyone 1.078\n",
            "  lunches 1.089\n",
            "  as 1.145\n",
            "  pretty 1.182\n",
            "  but 1.199\n",
            "bad 201\n",
            "  taste 1.038\n",
            "  strange 1.084\n",
            "  like 1.152\n",
            "  myself 1.169\n",
            "  nasty 1.177\n",
            "cookie 504\n",
            "  cookies 0.346\n",
            "  nana's 0.517\n",
            "  oreos 0.698\n",
            "  bars 0.796\n",
            "  craving 1.026\n",
            "jelly 351\n",
            "  creamer 0.891\n",
            "  gifts 1.008\n",
            "  twist 1.044\n",
            "  packages 1.150\n",
            "  advertised 1.179\n",
            "dog 925\n",
            "  foods 0.996\n",
            "  switched 1.044\n",
            "  pet 1.096\n",
            "  loves 1.147\n",
            "  appeal 1.150\n",
            "the 36\n",
            "  of 0.906\n",
            "  <unk> 0.976\n",
            "  . 1.053\n",
            "  and 1.142\n",
            "  to 1.194\n",
            "4 292\n",
            "  1 0.871\n",
            "  6 0.879\n",
            "  70 0.934\n",
            "  concentrated 0.989\n",
            "  measure 1.024\n",
            "\n",
            "Embedding size:  500\n",
            "good 47\n",
            "  crazy 1.695\n",
            "  gerber 1.753\n",
            "  beat 1.758\n",
            "  homemade 1.785\n",
            "  tasting 1.799\n",
            "bad 201\n",
            "  disgusting 1.623\n",
            "  awful 1.713\n",
            "  positive 1.715\n",
            "  bland 1.731\n",
            "  gone 1.736\n",
            "cookie 504\n",
            "  nana's 1.103\n",
            "  moist 1.388\n",
            "  odd 1.452\n",
            "  impossible 1.486\n",
            "  needs 1.509\n",
            "jelly 351\n",
            "  twist 1.156\n",
            "  cardboard 1.211\n",
            "  advertised 1.402\n",
            "  plum 1.447\n",
            "  sold 1.470\n",
            "dog 925\n",
            "  happier 1.641\n",
            "  earlier 1.658\n",
            "  foods 1.690\n",
            "  stays 1.697\n",
            "  eats 1.704\n",
            "the 36\n",
            "  <unk> 1.478\n",
            "  and 1.578\n",
            "  . 1.581\n",
            "  of 1.627\n",
            "  is 1.632\n",
            "4 292\n",
            "  mistake 1.687\n",
            "  2nd 1.707\n",
            "  toast 1.708\n",
            "  table 1.714\n",
            "  70 1.723\n",
            "\n",
            "Embedding size:  1000\n",
            "good 47\n",
            "  luck 1.874\n",
            "  a 1.879\n",
            "  suspect 1.891\n",
            "  shape 1.899\n",
            "  reminded 1.906\n",
            "bad 201\n",
            "  disgusting 1.772\n",
            "  touch 1.843\n",
            "  wild 1.847\n",
            "  entirely 1.869\n",
            "  timely 1.872\n",
            "cookie 504\n",
            "  nana's 1.543\n",
            "  moist 1.646\n",
            "  needs 1.732\n",
            "  chewy 1.778\n",
            "  odd 1.782\n",
            "jelly 351\n",
            "  twist 1.495\n",
            "  softer 1.595\n",
            "  shocked 1.696\n",
            "  gummy 1.734\n",
            "  supermarket 1.745\n",
            "dog 925\n",
            "  happier 1.820\n",
            "  earlier 1.835\n",
            "  owner 1.853\n",
            "  eats 1.855\n",
            "  nutrients 1.869\n",
            "the 36\n",
            "  <unk> 1.556\n",
            "  is 1.653\n",
            "  suspect 1.715\n",
            "  . 1.738\n",
            "  fence 1.768\n",
            "4 292\n",
            "  economical 1.837\n",
            "  mistake 1.839\n",
            "  total 1.861\n",
            "  70 1.861\n",
            "  certainly 1.878\n",
            "\n",
            "Embedding size:  2006\n",
            "good 47\n",
            "  from 2.000\n",
            "  yes 2.000\n",
            "  packaging 2.000\n",
            "  become 2.000\n",
            "  were 2.000\n",
            "bad 201\n",
            "  finish 2.000\n",
            "  due 2.000\n",
            "  <unk> 2.000\n",
            "  below 2.000\n",
            "  raw 2.000\n",
            "cookie 504\n",
            "  agave 2.000\n",
            "  was 2.000\n",
            "  somewhat 2.000\n",
            "  authentic 2.000\n",
            "  watching 2.000\n",
            "jelly 351\n",
            "  greta 2.000\n",
            "  mail 2.000\n",
            "  varieties 2.000\n",
            "  issue 2.000\n",
            "  consistent 2.000\n",
            "dog 925\n",
            "  we 2.000\n",
            "  baby 2.000\n",
            "  i'd 2.000\n",
            "  product 2.000\n",
            "  door 2.000\n",
            "the 36\n",
            "  i 2.000\n",
            "  good 2.000\n",
            "  loaded 2.000\n",
            "  thinks 2.000\n",
            "  itself 2.000\n",
            "4 292\n",
            "  nicely 2.000\n",
            "  sauce 2.000\n",
            "  tired 2.000\n",
            "  gone 2.000\n",
            "  future 2.000\n",
            "\n"
          ],
          "name": "stdout"
        }
      ]
    },
    {
      "cell_type": "code",
      "metadata": {
        "id": "bPl3mth8Pow9",
        "colab_type": "code",
        "colab": {}
      },
      "source": [
        "embedding_sizes = [10, 50, 100, 500, 1000, 2000]\n",
        "train_sizes = [10, 20, 30, 50, 75, 100, 200, 300, 500, 750, 1000, 1500, 2000, 2500, 3000]\n",
        "\n",
        "word_embed_results = {esz: {\"word\": [], \"lsa\": [], \"combo\": []} for esz in embedding_sizes}\n",
        "\n",
        "verbose = False\n",
        "for embed_sz in embedding_sizes:\n",
        "    if verbose: print(\"EMBED SIZE:\", embed_sz)\n",
        "    reps_tfidf = learn_reps_lsa(td_matrix_tfidf, embed_sz)\n",
        "    \n",
        "    word_results = word_embed_results[embed_sz][\"word\"]\n",
        "    lsa_results = word_embed_results[embed_sz][\"lsa\"]\n",
        "    combo_results = word_embed_results[embed_sz][\"combo\"]\n",
        "\n",
        "    for n in train_sizes:\n",
        "        word_results.append(training_experiment(\"word\", word_featurizer, n, verbose=verbose))\n",
        "        lsa_results.append(training_experiment(\"lsa\", lsa_featurizer, n, verbose=verbose))\n",
        "        combo_results.append(training_experiment(\"combo\", combo_featurizer, n, verbose=verbose))"
      ],
      "execution_count": 0,
      "outputs": []
    },
    {
      "cell_type": "code",
      "metadata": {
        "id": "Pd7Xb8eI3KPx",
        "colab_type": "code",
        "colab": {
          "base_uri": "https://localhost:8080/",
          "height": 439
        },
        "outputId": "8a93ffc5-cb81-4c00-96be-4e2b3d2e7f41"
      },
      "source": [
        "for embed_sz, results in word_embed_results.items():\n",
        "  print(\"Embed size:\", embed_sz)\n",
        "  print(\"word:\", word_embed_results[embed_sz]['word'], '>', max(word_embed_results[embed_sz]['word']))\n",
        "  print(\"lsa:\", word_embed_results[embed_sz]['lsa'], '>', max(word_embed_results[embed_sz]['lsa']))\n",
        "  print(\"combo:\", word_embed_results[embed_sz]['combo'], '>', max(word_embed_results[embed_sz]['combo']))"
      ],
      "execution_count": 34,
      "outputs": [
        {
          "output_type": "stream",
          "text": [
            "Embed size: 10\n",
            "word: [0.496, 0.526, 0.526, 0.6, 0.59, 0.616, 0.716, 0.742, 0.76, 0.766, 0.784, 0.782, 0.776, 0.776, 0.784] > 0.784\n",
            "lsa: [0.396, 0.524, 0.524, 0.622, 0.548, 0.588, 0.588, 0.59, 0.584, 0.596, 0.604, 0.602, 0.59, 0.614, 0.62] > 0.622\n",
            "combo: [0.434, 0.528, 0.526, 0.618, 0.596, 0.632, 0.71, 0.736, 0.756, 0.758, 0.766, 0.782, 0.768, 0.768, 0.782] > 0.782\n",
            "Embed size: 50\n",
            "word: [0.496, 0.526, 0.526, 0.6, 0.59, 0.616, 0.716, 0.742, 0.76, 0.766, 0.784, 0.782, 0.776, 0.776, 0.784] > 0.784\n",
            "lsa: [0.528, 0.532, 0.528, 0.69, 0.692, 0.698, 0.736, 0.746, 0.754, 0.76, 0.746, 0.756, 0.754, 0.762, 0.768] > 0.768\n",
            "combo: [0.522, 0.546, 0.526, 0.684, 0.654, 0.684, 0.732, 0.77, 0.774, 0.77, 0.77, 0.778, 0.794, 0.796, 0.8] > 0.8\n",
            "Embed size: 100\n",
            "word: [0.496, 0.526, 0.526, 0.6, 0.59, 0.616, 0.716, 0.742, 0.76, 0.766, 0.784, 0.782, 0.776, 0.776, 0.784] > 0.784\n",
            "lsa: [0.522, 0.528, 0.526, 0.7, 0.698, 0.716, 0.752, 0.768, 0.77, 0.78, 0.786, 0.78, 0.776, 0.792, 0.798] > 0.798\n",
            "combo: [0.516, 0.538, 0.528, 0.664, 0.674, 0.69, 0.742, 0.764, 0.774, 0.784, 0.792, 0.8, 0.79, 0.8, 0.802] > 0.802\n",
            "Embed size: 500\n",
            "word: [0.496, 0.526, 0.526, 0.6, 0.59, 0.616, 0.716, 0.742, 0.76, 0.766, 0.784, 0.782, 0.776, 0.776, 0.784] > 0.784\n",
            "lsa: [0.496, 0.528, 0.526, 0.618, 0.646, 0.692, 0.77, 0.78, 0.782, 0.798, 0.794, 0.788, 0.786, 0.798, 0.804] > 0.804\n",
            "combo: [0.494, 0.524, 0.528, 0.63, 0.632, 0.672, 0.748, 0.776, 0.774, 0.782, 0.794, 0.79, 0.794, 0.8, 0.814] > 0.814\n",
            "Embed size: 1000\n",
            "word: [0.496, 0.526, 0.526, 0.6, 0.59, 0.616, 0.716, 0.742, 0.76, 0.766, 0.784, 0.782, 0.776, 0.776, 0.784] > 0.784\n",
            "lsa: [0.49, 0.526, 0.526, 0.592, 0.604, 0.672, 0.76, 0.766, 0.782, 0.784, 0.778, 0.786, 0.774, 0.78, 0.806] > 0.806\n",
            "combo: [0.486, 0.524, 0.528, 0.616, 0.628, 0.672, 0.744, 0.762, 0.766, 0.776, 0.79, 0.794, 0.804, 0.796, 0.812] > 0.812\n",
            "Embed size: 2000\n",
            "word: [0.496, 0.526, 0.526, 0.6, 0.59, 0.616, 0.716, 0.742, 0.76, 0.766, 0.784, 0.782, 0.776, 0.776, 0.784] > 0.784\n",
            "lsa: [0.484, 0.526, 0.526, 0.604, 0.604, 0.64, 0.722, 0.74, 0.766, 0.768, 0.786, 0.782, 0.774, 0.774, 0.79] > 0.79\n",
            "combo: [0.484, 0.522, 0.522, 0.608, 0.614, 0.638, 0.736, 0.756, 0.766, 0.782, 0.784, 0.78, 0.792, 0.79, 0.8] > 0.8\n"
          ],
          "name": "stdout"
        }
      ]
    },
    {
      "cell_type": "code",
      "metadata": {
        "id": "_zF7u8q6PrxD",
        "colab_type": "code",
        "outputId": "05d9b79c-bfd2-433d-a378-dfd49baf1788",
        "colab": {
          "base_uri": "https://localhost:8080/",
          "height": 431
        }
      },
      "source": [
        "nrow = 2\n",
        "ncol = 3\n",
        "fig, axs = plt.subplots(nrow, ncol, figsize=(9,6), sharex = True, sharey=True)\n",
        "for i, embed_sz in enumerate(embedding_sizes):\n",
        "    axs[i//ncol, i%ncol].plot(train_sizes, word_embed_results[embed_sz][\"word\"], label=\"word\")\n",
        "    axs[i//ncol, i%ncol].plot(train_sizes, word_embed_results[embed_sz][\"lsa\"], label=\"lsa\")\n",
        "    axs[i//ncol, i%ncol].plot(train_sizes, word_embed_results[embed_sz][\"combo\"], label=\"combo\")\n",
        "    axs[i//ncol, i%ncol].set_title('Embedding Size of {}'.format(embed_sz))\n",
        "\n",
        "for ax in axs.flat:\n",
        "    ax.set(xlabel='Number of Train Examples', ylabel='Test Accuracy')\n",
        "\n",
        "# Hide x labels and tick labels for top plots and y ticks for right plots.\n",
        "for ax in axs.flat:\n",
        "    ax.label_outer()\n",
        "\n",
        "plt.legend(loc = \"lower right\")\n",
        "plt.suptitle('Test Accuracy of Various Sets of Features on Different Train Data Sizes')\n",
        "# plt.subplots_adjust(hspace=0.2)\n",
        "\n",
        "# plt.savefig('assets/word_embed_matrix_embed-ntrain.png')\n",
        "plt.show()"
      ],
      "execution_count": 22,
      "outputs": [
        {
          "output_type": "display_data",
          "data": {
            "image/png": "[encoded data removed]",
            "text/plain": [
              "<Figure size 648x432 with 6 Axes>"
            ]
          },
          "metadata": {
            "tags": []
          }
        }
      ]
    },
    {
      "cell_type": "code",
      "metadata": {
        "id": "BIbmMJdY0Wvr",
        "colab_type": "code",
        "colab": {
          "base_uri": "https://localhost:8080/",
          "height": 404
        },
        "outputId": "8108549c-0857-4d3a-c190-a2844446f9f8"
      },
      "source": [
        "train_size = 1000\n",
        "train_idx = train_sizes.index(train_size)\n",
        "\n",
        "lsa_acc_by_embed_size = []\n",
        "for embed_sz in embedding_sizes:\n",
        "    acc = word_embed_results[embed_sz][\"lsa\"][train_idx]\n",
        "    lsa_acc_by_embed_size.append(acc)\n",
        "\n",
        "plt.figure(figsize=(6, 6))\n",
        "\n",
        "plt.plot(embedding_sizes, lsa_acc_by_embed_size, label=\"lsa\")\n",
        "# plt.legend(loc = \"lower right\")\n",
        "plt.title('Test Accuracy of Various LSA Embedding Sizes')\n",
        "plt.xlabel('Size of Word Embeddings')\n",
        "plt.ylabel('Test Accuracy')\n",
        "\n",
        "# plt.savefig('assets/word_embed_matrix_ntrain{}.png'.format(train_size))\n",
        "plt.show()"
      ],
      "execution_count": 23,
      "outputs": [
        {
          "output_type": "display_data",
          "data": {
            "image/png": "[encoded data removed]",
            "text/plain": [
              "<Figure size 432x432 with 1 Axes>"
            ]
          },
          "metadata": {
            "tags": []
          }
        }
      ]
    },
    {
      "cell_type": "code",
      "metadata": {
        "id": "ZCgHOsNc0ZbE",
        "colab_type": "code",
        "colab": {
          "base_uri": "https://localhost:8080/",
          "height": 370
        },
        "outputId": "f92a5af5-7510-473b-d4b8-a01ac23cd843"
      },
      "source": [
        "fig, axs = plt.subplots(1, 2, figsize=(10, 5), sharey=True)\n",
        "ax_lsa, ax_combo = axs\n",
        "\n",
        "ax_lsa.set_title('lsa features')\n",
        "ax_combo.set_title('combo features')\n",
        "\n",
        "for train_size in [500, 1000, 2000, 3000]:\n",
        "    train_idx = train_sizes.index(train_size)\n",
        "    lsa_acc_by_embed_size = []\n",
        "    combo_acc_by_embed_size = []\n",
        "    for embed_sz in embedding_sizes:\n",
        "        acc_lsa = word_embed_results[embed_sz][\"lsa\"][train_idx]\n",
        "        lsa_acc_by_embed_size.append(acc_lsa)\n",
        "        acc_combo = word_embed_results[embed_sz][\"combo\"][train_idx]\n",
        "        combo_acc_by_embed_size.append(acc_lsa)\n",
        "    ax_lsa.plot(embedding_sizes, lsa_acc_by_embed_size, label=\"{}\".format(train_size))\n",
        "    ax_combo.plot(embedding_sizes, combo_acc_by_embed_size, label=\"{}\".format(train_size))\n",
        "\n",
        "plt.legend(loc = \"lower right\")\n",
        "plt.suptitle('Test Accuracy of Various LSA Embedding Sizes')\n",
        "\n",
        "for ax in axs.flat:\n",
        "    ax.set(xlabel='Size of Word Embeddings', ylabel='Test Accuracy')\n",
        "    # Hide x labels and tick labels for top plots and y ticks for right plots.\n",
        "    ax.label_outer()\n",
        "\n",
        "# plt.savefig('assets/word_embed_matrix_ntrain.png')\n",
        "plt.show()"
      ],
      "execution_count": 27,
      "outputs": [
        {
          "output_type": "display_data",
          "data": {
            "image/png": "[encoded data removed]",
            "text/plain": [
              "<Figure size 720x360 with 2 Axes>"
            ]
          },
          "metadata": {
            "tags": []
          }
        }
      ]
    },
    {
      "cell_type": "code",
      "metadata": {
        "id": "VH-EtVdH093p",
        "colab_type": "code",
        "colab": {
          "base_uri": "https://localhost:8080/",
          "height": 475
        },
        "outputId": "55f85956-6a58-4c03-f15b-9bcb6f2484d3"
      },
      "source": [
        "u_td, sigma_td, _ = svd(td_matrix)\n",
        "u_tt, _, _ = svd(td_matrix@td_matrix.T)\n",
        "print(u_td)\n",
        "print(u_tt)"
      ],
      "execution_count": 25,
      "outputs": [
        {
          "output_type": "stream",
          "text": [
            "[[ 6.89031937e-01  6.72372892e-01  1.78411037e-01 ...  5.13700980e-05\n",
            "   1.36794723e-21 -3.92241800e-20]\n",
            " [ 2.31553598e-02 -5.20963554e-02 -1.21153239e-02 ... -1.71082540e-05\n",
            "  -6.62031363e-18 -1.47116322e-18]\n",
            " [ 3.83301968e-02 -4.29225155e-02 -1.93856196e-02 ...  4.32473026e-04\n",
            "   9.83299612e-18  4.67188690e-18]\n",
            " ...\n",
            " [ 3.17231578e-04 -6.50245704e-04 -1.52675912e-03 ...  2.39091962e-03\n",
            "  -5.42117020e-17 -5.93870946e-17]\n",
            " [ 4.42263586e-04 -2.14287700e-04  4.98282343e-04 ... -1.15934843e-02\n",
            "   2.13613803e-16  1.16716819e-16]\n",
            " [ 2.76302849e-03  1.39797955e-02  5.86256685e-03 ...  9.53740138e-03\n",
            "   1.67355993e-17  3.48104400e-16]]\n",
            "[[-6.89031937e-01  6.72372892e-01  1.78411037e-01 ...  5.13700980e-05\n",
            "   3.35427360e-18  3.03527002e-19]\n",
            " [-2.31553598e-02 -5.20963554e-02 -1.21153239e-02 ... -1.71082541e-05\n",
            "  -2.52381903e-17  2.77028285e-17]\n",
            " [-3.83301968e-02 -4.29225155e-02 -1.93856196e-02 ...  4.32473026e-04\n",
            "   2.22627435e-17 -1.87185506e-17]\n",
            " ...\n",
            " [-3.17231578e-04 -6.50245704e-04 -1.52675912e-03 ...  2.39091962e-03\n",
            "   2.67934253e-16  1.00579829e-16]\n",
            " [-4.42263586e-04 -2.14287700e-04  4.98282343e-04 ... -1.15934843e-02\n",
            "  -1.59470653e-16 -4.69572539e-16]\n",
            " [-2.76302849e-03  1.39797955e-02  5.86256685e-03 ...  9.53740138e-03\n",
            "   1.66122301e-15  1.97027228e-16]]\n"
          ],
          "name": "stdout"
        }
      ]
    },
    {
      "cell_type": "code",
      "metadata": {
        "id": "PEOXeLeu1DCs",
        "colab_type": "code",
        "colab": {
          "base_uri": "https://localhost:8080/",
          "height": 35
        },
        "outputId": "85f78ac4-68ce-493b-98dc-1200b9ead31c"
      },
      "source": [
        "print(np.diff(sigma_td) <= 0) # confirm that sigma is indecreasing (non-incr.) order"
      ],
      "execution_count": 26,
      "outputs": [
        {
          "output_type": "stream",
          "text": [
            "[ True  True  True ...  True  True  True]\n"
          ],
          "name": "stdout"
        }
      ]
    },
    {
      "cell_type": "markdown",
      "metadata": {
        "id": "AxfunCYh5nmZ",
        "colab_type": "text"
      },
      "source": [
        "## Part 2: word representations via language modeling\n",
        "\n",
        "In this section, we'll train a word embedding model with a word2vec-style objective rather than a matrix factorization objective. This requires a little more work; we've provided scaffolding for a PyTorch model implementation below.\n",
        "(If you've never used PyTorch before, there are some tutorials [here](https://pytorch.org/tutorials/). You're also welcome to implement these experiments in\n",
        "any other framework of your choosing.)"
      ]
    },
    {
      "cell_type": "code",
      "metadata": {
        "id": "M1napibQ6aub",
        "colab_type": "code",
        "colab": {}
      },
      "source": [
        "import torch\n",
        "import torch.nn as nn\n",
        "import torch.nn.functional as F\n",
        "import torch.optim as optim\n",
        "import torch.utils.data as torch_data\n",
        "\n",
        "class Word2VecModel(nn.Module):\n",
        "  # A torch module implementing a word2vec predictor. The `forward` function\n",
        "  # should take a batch of context word ids as input and predict the word \n",
        "  # in the middle of the context as output, as in the CBOW model from lecture.\n",
        "\n",
        "  def __init__(self, vocab_size, embed_dim):\n",
        "      super().__init__()\n",
        "\n",
        "      # Your code here!\n",
        "      self.vocab_size = vocab_size\n",
        "      self.embed_dim = embed_dim\n",
        "      self.V = nn.Embedding(vocab_size, embed_dim)\n",
        "      self.U = nn.Linear(embed_dim, vocab_size)\n",
        "      self.log_softmax = nn.LogSoftmax(dim=1)\n",
        "\n",
        "  def forward(self, context):\n",
        "      # Context is an `n_batch x n_context` matrix of integer word ids\n",
        "      # this function should return a set of scores for predicting the word \n",
        "      # in the middle of the context\n",
        "\n",
        "      # Your code here!\n",
        "      n_batch, n_context = context.shape\n",
        "      embeddings = self.V(context)  # n_batch x n_context x self.embed_dim\n",
        "      avg_context = torch.sum(embeddings, dim=1)\n",
        "      output = self.U(avg_context)\n",
        "      if not self.training:\n",
        "        # training uses loss that incorporates softmax\n",
        "        # apply softmax for prediction\n",
        "        output = self.log_softmax(output)\n",
        "      return output"
      ],
      "execution_count": 0,
      "outputs": []
    },
    {
      "cell_type": "code",
      "metadata": {
        "id": "ePgZlityuWr3",
        "colab_type": "code",
        "colab": {}
      },
      "source": [
        "def learn_reps_word2vec(corpus, window_size, rep_size, n_epochs, n_batch):\n",
        "  # This method takes in a corpus of training sentences. It returns a matrix of\n",
        "  # word embeddings with the same structure as used in the previous section of \n",
        "  # the assignment. (You can extract this matrix from the parameters of the \n",
        "  # Word2VecModel.)\n",
        "\n",
        "  tokenizer = lab_util.Tokenizer()\n",
        "  tokenizer.fit(corpus)\n",
        "  tokenized_corpus = tokenizer.tokenize(corpus)\n",
        "\n",
        "  ngrams = lab_util.get_ngrams(tokenized_corpus, window_size)\n",
        "\n",
        "  device = torch.device('cuda')  # run on colab gpu\n",
        "  model = Word2VecModel(tokenizer.vocab_size, rep_size).to(device)\n",
        "  opt = optim.Adam(model.parameters(), lr=0.001)\n",
        "  loss_fn = nn.CrossEntropyLoss()\n",
        "\n",
        "  loader = torch_data.DataLoader(ngrams, batch_size=n_batch, shuffle=True)\n",
        "\n",
        "  model.train()\n",
        "  for epoch in range(n_epochs):\n",
        "    for context, label in loader:\n",
        "      # as described above, `context` is a batch of context word ids (n_batch, n_context), and\n",
        "      # `label` is a batch of predicted word labels of shape (n_batch,)\n",
        "      context = context.to(device)\n",
        "      label = label.to(device)\n",
        "      \n",
        "      model.zero_grad()  # clear gradients\n",
        "      preds = model(context)  # n_batch x vocab_size\n",
        "      loss = loss_fn(preds, label)\n",
        "      loss.backward()  # compute gradients\n",
        "      opt.step()\n",
        "\n",
        "  # reminder: you want to return a `vocab_size x embedding_size` numpy array\n",
        "  embedding_matrix = model.V.weight.cpu().detach().numpy()\n",
        "  return embedding_matrix"
      ],
      "execution_count": 0,
      "outputs": []
    },
    {
      "cell_type": "code",
      "metadata": {
        "id": "aaUy1cNuB3W1",
        "colab_type": "code",
        "colab": {}
      },
      "source": [
        "reps_word2vec = learn_reps_word2vec(train_reviews, 2, 500, 10, 100)"
      ],
      "execution_count": 0,
      "outputs": []
    },
    {
      "cell_type": "markdown",
      "metadata": {
        "id": "O3oE-tpR7I39",
        "colab_type": "text"
      },
      "source": [
        "After training the embeddings, we can try to visualize the embedding space to see if it makes sense. First, we can take any word in the space and check its closest neighbors."
      ]
    },
    {
      "cell_type": "code",
      "metadata": {
        "id": "yMW4QND56bHF",
        "colab_type": "code",
        "outputId": "cbd666ec-13f1-417b-b042-6f3abf512c20",
        "colab": {
          "base_uri": "https://localhost:8080/",
          "height": 756
        }
      },
      "source": [
        "lab_util.show_similar_words(vectorizer.tokenizer, reps_word2vec, show_tokens)"
      ],
      "execution_count": 38,
      "outputs": [
        {
          "output_type": "stream",
          "text": [
            "good 47\n",
            "  great 1.693\n",
            "  terms 1.718\n",
            "  terrible 1.730\n",
            "  bad 1.736\n",
            "  prepared 1.736\n",
            "bad 201\n",
            "  funny 1.715\n",
            "  limited 1.717\n",
            "  stores 1.721\n",
            "  ready 1.731\n",
            "  good 1.736\n",
            "cookie 504\n",
            "  equal 1.649\n",
            "  higher 1.704\n",
            "  dark 1.730\n",
            "  around 1.732\n",
            "  gone 1.733\n",
            "jelly 351\n",
            "  muffin 1.714\n",
            "  bears 1.715\n",
            "  first 1.723\n",
            "  mixes 1.733\n",
            "  stuck 1.742\n",
            "dog 925\n",
            "  baby 1.648\n",
            "  rica 1.672\n",
            "  vanilla 1.693\n",
            "  introduced 1.717\n",
            "  bother 1.731\n",
            "the 36\n",
            "  a 1.585\n",
            "  my 1.619\n",
            "  their 1.670\n",
            "  your 1.682\n",
            "  impossible 1.721\n",
            "4 292\n",
            "  unit 1.687\n",
            "  150 1.700\n",
            "  sticky 1.706\n",
            "  three 1.723\n",
            "  since 1.733\n"
          ],
          "name": "stdout"
        }
      ]
    },
    {
      "cell_type": "markdown",
      "metadata": {
        "id": "ue-9CPSc7fi9",
        "colab_type": "text"
      },
      "source": [
        "We can also cluster the embedding space. Clustering in 4 or more dimensions is hard to visualize, and even clustering in 2 or 3 can be difficult because there are so many words in the vocabulary. One thing we can try to do is assign cluster labels and qualitiatively look for an underlying pattern in the clusters."
      ]
    },
    {
      "cell_type": "code",
      "metadata": {
        "id": "v-Yf6NMCXVx4",
        "colab_type": "code",
        "outputId": "7acce631-dbfe-4f1d-e257-dfe632c1baba",
        "colab": {
          "base_uri": "https://localhost:8080/",
          "height": 1000
        }
      },
      "source": [
        "from sklearn.cluster import KMeans\n",
        "\n",
        "indices = KMeans(n_clusters=10).fit_predict(reps_word2vec)\n",
        "zipped = list(zip(range(vectorizer.tokenizer.vocab_size), indices))\n",
        "np.random.shuffle(zipped)\n",
        "zipped = zipped[:100]\n",
        "zipped = sorted(zipped, key=lambda x: x[1])\n",
        "for token, cluster_idx in zipped:\n",
        "  word = vectorizer.tokenizer.token_to_word[token]\n",
        "  print(f\"{word}: {cluster_idx}\")"
      ],
      "execution_count": 39,
      "outputs": [
        {
          "output_type": "stream",
          "text": [
            "below: 0\n",
            "general: 0\n",
            "moved: 1\n",
            "spread: 1\n",
            "eaten: 1\n",
            "without: 1\n",
            "reviews: 1\n",
            "suggest: 1\n",
            "worked: 1\n",
            "help: 1\n",
            "given: 1\n",
            "bought: 1\n",
            "him: 1\n",
            "has: 1\n",
            "needed: 1\n",
            "will: 1\n",
            "zero: 1\n",
            "rate: 1\n",
            "doesn't: 1\n",
            "decide: 1\n",
            "kind: 4\n",
            "seen: 6\n",
            "buying: 7\n",
            "caramels: 7\n",
            "than: 7\n",
            "large: 7\n",
            "muffin: 7\n",
            "brewer: 7\n",
            "hint: 7\n",
            "lunches: 7\n",
            "classic: 7\n",
            "crackers: 7\n",
            "expiration: 7\n",
            "nearly: 7\n",
            "potassium: 7\n",
            "its: 7\n",
            "coffee: 7\n",
            "unfortunately: 7\n",
            "never: 7\n",
            "shipment: 7\n",
            "beef: 7\n",
            "pouch: 7\n",
            "fruit: 7\n",
            "granted: 7\n",
            "lasts: 7\n",
            "that's: 7\n",
            "im: 8\n",
            "fall: 8\n",
            "teeth: 8\n",
            "pieces: 8\n",
            "amazing: 8\n",
            "prime: 8\n",
            "cubes: 8\n",
            "beer: 8\n",
            "months: 8\n",
            "excellent: 8\n",
            "subtle: 8\n",
            "filled: 8\n",
            "lays: 8\n",
            "someone: 8\n",
            "ok: 8\n",
            "caffeine: 8\n",
            "average: 8\n",
            "bad: 8\n",
            "go: 8\n",
            "disappointed: 8\n",
            "update: 8\n",
            "warning: 8\n",
            "artificial: 8\n",
            "times: 8\n",
            "living: 8\n",
            "birthday: 8\n",
            "plus: 8\n",
            "40: 8\n",
            "plum: 8\n",
            "target: 8\n",
            "un: 8\n",
            "learned: 8\n",
            "solid: 8\n",
            "calcium: 8\n",
            "treats: 8\n",
            "mean: 8\n",
            "puppy: 8\n",
            "something: 8\n",
            "fiber: 8\n",
            "morning: 8\n",
            "description: 8\n",
            "still: 8\n",
            "truly: 8\n",
            "we: 8\n",
            "mill: 8\n",
            "colors: 8\n",
            "packing: 8\n",
            "starbucks: 8\n",
            "double: 8\n",
            "holes: 8\n",
            "rica: 8\n",
            "next: 8\n",
            "change: 9\n",
            "cookies: 9\n"
          ],
          "name": "stdout"
        }
      ]
    },
    {
      "cell_type": "markdown",
      "metadata": {
        "id": "ci1TkENU78Wn",
        "colab_type": "text"
      },
      "source": [
        "Finally, we can use the trained word embeddings to construct vector representations of full reviews. One common approach is to simply average all the word embeddings in the review to create an overall embedding. Implement the transform function in Word2VecFeaturizer to do this."
      ]
    },
    {
      "cell_type": "code",
      "metadata": {
        "id": "A5vjmRV6Dgbu",
        "colab_type": "code",
        "outputId": "ecb83cf5-eb2c-4d31-8e02-777a4b7c3c25",
        "colab": {
          "base_uri": "https://localhost:8080/",
          "height": 87
        }
      },
      "source": [
        "def word2vec_lsa_featurizer(xs):\n",
        "  feats = xs@reps_word2vec # Your code here!\n",
        "\n",
        "  # normalize\n",
        "  return feats / np.sqrt((feats ** 2).sum(axis=1, keepdims=True))\n",
        "\n",
        "training_experiment(\"word2vec\", word2vec_lsa_featurizer, 10)"
      ],
      "execution_count": 40,
      "outputs": [
        {
          "output_type": "stream",
          "text": [
            "word2vec features, 10 examples\n",
            "test accuracy 0.526\n",
            "\n"
          ],
          "name": "stdout"
        },
        {
          "output_type": "execute_result",
          "data": {
            "text/plain": [
              "0.526"
            ]
          },
          "metadata": {
            "tags": []
          },
          "execution_count": 40
        }
      ]
    },
    {
      "cell_type": "markdown",
      "metadata": {
        "id": "XSfoQbxaXtfH",
        "colab_type": "text"
      },
      "source": [
        "**Part 2: Lab writeup**\n",
        "\n",
        "Part 2 of your lab report should discuss any implementation details that were important to filling out the code above. Then, use the code to set up experiments that answer the following questions:\n",
        "\n",
        "1. Qualitatively, what do you observe about nearest neighbors in representation space? (E.g. what words are most similar to _the_, _dog_, _3_, and _good_?) How well do word2vec representations correspond to your intuitions about word similarity?\n",
        "\n",
        "2. One important parameter in word2vec-style models is context size. How does changing the context size affect the kinds of representations that are learned?\n",
        "\n",
        "3. How do results on the downstream classification problem compare to \n",
        "   part 1?\n",
        "\n",
        "4. What are some advantages and disadvantages of learned embedding representations, relative to the featurization done in part 1?\n",
        "\n",
        "5. What are some potential problems with constructing a representation of the review by averaging the embeddings of the individual words?"
      ]
    },
    {
      "cell_type": "code",
      "metadata": {
        "id": "OvHhQVGaF4xt",
        "colab_type": "code",
        "outputId": "d93cf32b-8181-4483-ad05-2b50a5c3dd01",
        "colab": {
          "base_uri": "https://localhost:8080/",
          "height": 1000
        }
      },
      "source": [
        "context_sizes = [1, 2, 3, 5, 10, 20, 30, 50]\n",
        "for csz in context_sizes:\n",
        "  print(\"Context window size: \", csz)\n",
        "  reps_word2vec_test = learn_reps_word2vec(train_reviews, csz, 500, 10, 100)\n",
        "  lab_util.show_similar_words(vectorizer.tokenizer, reps_word2vec_test, show_tokens)\n",
        "  print()"
      ],
      "execution_count": 41,
      "outputs": [
        {
          "output_type": "stream",
          "text": [
            "Context window size:  1\n",
            "good 47\n",
            "  switch 1.684\n",
            "  tolerate 1.693\n",
            "  salty 1.695\n",
            "  significant 1.711\n",
            "  chemical 1.711\n",
            "bad 201\n",
            "  greta 1.684\n",
            "  harder 1.695\n",
            "  they 1.709\n",
            "  plant 1.709\n",
            "  options 1.713\n",
            "cookie 504\n",
            "  pouch 1.702\n",
            "  shot 1.704\n",
            "  across 1.709\n",
            "  mustard 1.720\n",
            "  waste 1.721\n",
            "jelly 351\n",
            "  exact 1.683\n",
            "  peanuts 1.689\n",
            "  veggies 1.689\n",
            "  same 1.698\n",
            "  design 1.705\n",
            "dog 925\n",
            "  bed 1.613\n",
            "  carton 1.708\n",
            "  life 1.713\n",
            "  junk 1.722\n",
            "  times 1.728\n",
            "the 36\n",
            "  my 1.485\n",
            "  your 1.595\n",
            "  a 1.631\n",
            "  wise 1.685\n",
            "  those 1.719\n",
            "4 292\n",
            "  small 1.667\n",
            "  inches 1.722\n",
            "  bed 1.729\n",
            "  caffeine 1.730\n",
            "  yellow 1.731\n",
            "\n",
            "Context window size:  2\n",
            "good 47\n",
            "  example 1.661\n",
            "  sojos 1.677\n",
            "  hair 1.690\n",
            "  picked 1.705\n",
            "  dark 1.712\n",
            "bad 201\n",
            "  watchers 1.722\n",
            "  www 1.725\n",
            "  burn 1.727\n",
            "  strange 1.728\n",
            "  rest 1.747\n",
            "cookie 504\n",
            "  pork 1.624\n",
            "  tiny 1.675\n",
            "  overpriced 1.684\n",
            "  clams 1.697\n",
            "  seed 1.700\n",
            "jelly 351\n",
            "  shown 1.567\n",
            "  egg 1.692\n",
            "  older 1.693\n",
            "  zero 1.711\n",
            "  dishes 1.718\n",
            "dog 925\n",
            "  breed 1.638\n",
            "  roast 1.652\n",
            "  daily 1.707\n",
            "  ground 1.733\n",
            "  packages 1.740\n",
            "the 36\n",
            "  a 1.554\n",
            "  my 1.635\n",
            "  their 1.682\n",
            "  your 1.683\n",
            "  brewers 1.729\n",
            "4 292\n",
            "  flavour 1.679\n",
            "  0 1.687\n",
            "  okay 1.706\n",
            "  stock 1.729\n",
            "  added 1.733\n",
            "\n",
            "Context window size:  3\n",
            "good 47\n",
            "  excited 1.678\n",
            "  rich 1.693\n",
            "  based 1.726\n",
            "  choose 1.731\n",
            "  boost 1.737\n",
            "bad 201\n",
            "  yeah 1.700\n",
            "  first 1.733\n",
            "  strong 1.736\n",
            "  wonderful 1.743\n",
            "  mint 1.745\n",
            "cookie 504\n",
            "  beef 1.682\n",
            "  picture 1.703\n",
            "  machine 1.732\n",
            "  spinach 1.737\n",
            "  aren't 1.737\n",
            "jelly 351\n",
            "  somewhere 1.692\n",
            "  california 1.714\n",
            "  expecting 1.727\n",
            "  grains 1.747\n",
            "  rancid 1.749\n",
            "dog 925\n",
            "  worse 1.692\n",
            "  candy 1.714\n",
            "  popcorn 1.715\n",
            "  warehouse 1.720\n",
            "  felidae 1.737\n",
            "the 36\n",
            "  a 1.505\n",
            "  my 1.633\n",
            "  amazon's 1.645\n",
            "  this 1.680\n",
            "  grown 1.747\n",
            "4 292\n",
            "  24 1.676\n",
            "  vomiting 1.728\n",
            "  pork 1.729\n",
            "  25 1.731\n",
            "  amazing 1.739\n",
            "\n",
            "Context window size:  5\n",
            "good 47\n",
            "  break 1.735\n",
            "  great 1.737\n",
            "  serious 1.743\n",
            "  watery 1.757\n",
            "  due 1.759\n",
            "bad 201\n",
            "  tight 1.686\n",
            "  tasty 1.713\n",
            "  healthier 1.746\n",
            "  pass 1.748\n",
            "  berry 1.756\n",
            "cookie 504\n",
            "  hopes 1.677\n",
            "  beverages 1.690\n",
            "  meant 1.721\n",
            "  usually 1.726\n",
            "  frosting 1.733\n",
            "jelly 351\n",
            "  mueslix 1.660\n",
            "  mold 1.718\n",
            "  bunch 1.722\n",
            "  generally 1.734\n",
            "  thrown 1.745\n",
            "dog 925\n",
            "  garbage 1.605\n",
            "  burn 1.641\n",
            "  kids 1.678\n",
            "  coffees 1.693\n",
            "  recent 1.706\n",
            "the 36\n",
            "  a 1.409\n",
            "  this 1.695\n",
            "  particular 1.723\n",
            "  tart 1.739\n",
            "  it 1.746\n",
            "4 292\n",
            "  ground 1.739\n",
            "  nutritious 1.748\n",
            "  bisquick 1.748\n",
            "  the 1.756\n",
            "  it 1.758\n",
            "\n",
            "Context window size:  10\n",
            "good 47\n",
            "  noodles 1.669\n",
            "  german 1.707\n",
            "  readily 1.736\n",
            "  candy 1.746\n",
            "  peach 1.753\n",
            "bad 201\n",
            "  kona 1.700\n",
            "  twice 1.715\n",
            "  hard 1.717\n",
            "  worry 1.734\n",
            "  caramel 1.748\n",
            "cookie 504\n",
            "  guy 1.671\n",
            "  melted 1.677\n",
            "  pan 1.694\n",
            "  glass 1.704\n",
            "  attention 1.707\n",
            "jelly 351\n",
            "  soy 1.692\n",
            "  plan 1.701\n",
            "  note 1.710\n",
            "  often 1.741\n",
            "  vegetables 1.743\n",
            "dog 925\n",
            "  combination 1.714\n",
            "  effects 1.717\n",
            "  oil 1.718\n",
            "  alone 1.758\n",
            "  stuck 1.758\n",
            "the 36\n",
            "  a 1.379\n",
            "  my 1.489\n",
            "  this 1.614\n",
            "  it 1.634\n",
            "  these 1.702\n",
            "4 292\n",
            "  milder 1.712\n",
            "  moved 1.732\n",
            "  batch 1.741\n",
            "  numerous 1.746\n",
            "  treat 1.747\n",
            "\n",
            "Context window size:  20\n",
            "good 47\n",
            "  rip 1.678\n",
            "  fine 1.702\n",
            "  same 1.729\n",
            "  kinda 1.734\n",
            "  dont 1.758\n",
            "bad 201\n",
            "  seen 1.658\n",
            "  couple 1.733\n",
            "  holes 1.740\n",
            "  follow 1.753\n",
            "  face 1.755\n",
            "cookie 504\n",
            "  further 1.720\n",
            "  izze 1.735\n",
            "  room 1.737\n",
            "  three 1.737\n",
            "  metallic 1.749\n",
            "jelly 351\n",
            "  purchased 1.704\n",
            "  list 1.734\n",
            "  safe 1.742\n",
            "  problem 1.749\n",
            "  my 1.753\n",
            "dog 925\n",
            "  cat 1.729\n",
            "  items 1.740\n",
            "  split 1.740\n",
            "  while 1.749\n",
            "  along 1.753\n",
            "the 36\n",
            "  a 1.258\n",
            "  this 1.426\n",
            "  it 1.499\n",
            "  another 1.663\n",
            "  blends 1.685\n",
            "4 292\n",
            "  recipes 1.693\n",
            "  meat 1.709\n",
            "  lemon 1.725\n",
            "  basically 1.756\n",
            "  someone 1.758\n",
            "\n",
            "Context window size:  30\n",
            "good 47\n",
            "  miss 1.728\n",
            "  package 1.745\n",
            "  rich 1.748\n",
            "  version 1.748\n",
            "  great 1.753\n",
            "bad 201\n",
            "  offer 1.642\n",
            "  much 1.738\n",
            "  iron 1.741\n",
            "  bone 1.747\n",
            "  further 1.748\n",
            "cookie 504\n",
            "  oven 1.714\n",
            "  later 1.731\n",
            "  carbonation 1.736\n",
            "  vomiting 1.749\n",
            "  pudding 1.763\n",
            "jelly 351\n",
            "  tangerine 1.700\n",
            "  from 1.713\n",
            "  kind 1.724\n",
            "  im 1.725\n",
            "  bills 1.742\n",
            "dog 925\n",
            "  cat 1.629\n",
            "  brewer 1.696\n",
            "  sweet 1.735\n",
            "  paying 1.737\n",
            "  iams 1.742\n",
            "the 36\n",
            "  a 1.482\n",
            "  this 1.582\n",
            "  my 1.667\n",
            "  it 1.674\n",
            "  granted 1.688\n",
            "4 292\n",
            "  range 1.707\n",
            "  plum 1.730\n",
            "  cheddar 1.731\n",
            "  contacted 1.732\n",
            "  grounds 1.746\n",
            "\n",
            "Context window size:  50\n",
            "good 47\n",
            "  sell 1.718\n",
            "  great 1.730\n",
            "  clearly 1.731\n",
            "  thick 1.738\n",
            "  stronger 1.745\n",
            "bad 201\n",
            "  sell 1.716\n",
            "  processed 1.717\n",
            "  plan 1.738\n",
            "  office 1.739\n",
            "  bigger 1.741\n",
            "cookie 504\n",
            "  packaging 1.707\n",
            "  carbs 1.710\n",
            "  doubt 1.723\n",
            "  caffeine 1.724\n",
            "  required 1.725\n",
            "jelly 351\n",
            "  outside 1.664\n",
            "  30 1.681\n",
            "  leaf 1.701\n",
            "  watermelon 1.714\n",
            "  brewer 1.718\n",
            "dog 925\n",
            "  amount 1.682\n",
            "  vet 1.690\n",
            "  problems 1.721\n",
            "  sweeter 1.722\n",
            "  pineapple 1.723\n",
            "the 36\n",
            "  a 1.435\n",
            "  your 1.596\n",
            "  it 1.673\n",
            "  dairy 1.675\n",
            "  comparison 1.698\n",
            "4 292\n",
            "  risk 1.678\n",
            "  gum 1.697\n",
            "  lots 1.716\n",
            "  stick 1.720\n",
            "  an 1.731\n",
            "\n"
          ],
          "name": "stdout"
        }
      ]
    },
    {
      "cell_type": "code",
      "metadata": {
        "id": "bLVTSU0YOGAH",
        "colab_type": "code",
        "colab": {}
      },
      "source": [
        "train_sizes = [10, 20, 30, 50, 75, 100, 200, 300, 500, 750, 1000, 1500, 2000, 2500, 3000]\n",
        "\n",
        "word2vec_500_results = []\n",
        "\n",
        "reps_word2vec = learn_reps_word2vec(train_reviews, 2, 500, 10, 100)\n",
        "\n",
        "for n in train_sizes:\n",
        "    word2vec_500_results.append(training_experiment(\"word2vec\", word2vec_lsa_featurizer, n, verbose=False))"
      ],
      "execution_count": 0,
      "outputs": []
    },
    {
      "cell_type": "code",
      "metadata": {
        "id": "nBFq3CbYOVRW",
        "colab_type": "code",
        "outputId": "1ae6f446-5c39-4f8a-be09-a1a5bb0de3f0",
        "colab": {
          "base_uri": "https://localhost:8080/",
          "height": 404
        }
      },
      "source": [
        "plt.figure(figsize=(6, 6))\n",
        "plt.plot(train_sizes, word2vec_500_results, label=\"word2vec\")\n",
        "plt.legend(loc = \"lower right\")\n",
        "plt.title('Test Accuracy of Word2Vec on Different Train Data Sizes')\n",
        "plt.xlabel('Number of Train Examples')\n",
        "plt.ylabel('Test Accuracy')\n",
        "\n",
        "# plt.savefig('word2vec_e500.png')\n",
        "plt.show()"
      ],
      "execution_count": 43,
      "outputs": [
        {
          "output_type": "display_data",
          "data": {
            "image/png": "[encoded data removed]",
            "text/plain": [
              "<Figure size 432x432 with 1 Axes>"
            ]
          },
          "metadata": {
            "tags": []
          }
        }
      ]
    },
    {
      "cell_type": "code",
      "metadata": {
        "id": "gfGIhr5tOsYn",
        "colab_type": "code",
        "colab": {}
      },
      "source": [
        "# files.download('word2vec_e500.png')"
      ],
      "execution_count": 0,
      "outputs": []
    },
    {
      "cell_type": "code",
      "metadata": {
        "id": "Zv9D0C0YPEPe",
        "colab_type": "code",
        "outputId": "13ce5fa8-6d21-47f6-a868-9dc27374e883",
        "colab": {
          "base_uri": "https://localhost:8080/",
          "height": 404
        }
      },
      "source": [
        "plt.figure(figsize=(6, 6))\n",
        "plt.plot(train_sizes, lsa_500_results, label=\"lsa\")\n",
        "plt.plot(train_sizes, word2vec_500_results, label=\"word2vec\")\n",
        "plt.legend(loc = \"lower right\")\n",
        "plt.title('Test Accuracy of LSA and Word2Vec on Different Train Data Sizes')\n",
        "plt.xlabel('Number of Train Examples')\n",
        "plt.ylabel('Test Accuracy')\n",
        "\n",
        "plt.savefig('word2vec-vs-lsa_e500.png')\n",
        "plt.show()"
      ],
      "execution_count": 46,
      "outputs": [
        {
          "output_type": "display_data",
          "data": {
            "image/png": "[encoded data removed]",
            "text/plain": [
              "<Figure size 432x432 with 1 Axes>"
            ]
          },
          "metadata": {
            "tags": []
          }
        }
      ]
    },
    {
      "cell_type": "code",
      "metadata": {
        "id": "YcqP5jIIPLse",
        "colab_type": "code",
        "colab": {}
      },
      "source": [
        "# files.download('word2vec-vs-lsa_e500.png')"
      ],
      "execution_count": 0,
      "outputs": []
    },
    {
      "cell_type": "code",
      "metadata": {
        "id": "_nzdgV2pMuIy",
        "colab_type": "code",
        "colab": {}
      },
      "source": [
        "embedding_sizes = [10, 50, 100, 500, 1000, 2000]\n",
        "train_sizes = [10, 20, 30, 50, 75, 100, 200, 300, 500, 750, 1000, 1500, 2000, 2500, 3000]\n",
        "\n",
        "word2vec_results = {esz: [] for esz in embedding_sizes}\n",
        "\n",
        "for embed_sz in embedding_sizes:\n",
        "    reps_word2vec = learn_reps_word2vec(train_reviews, 2, embed_sz, 10, 100)\n",
        "\n",
        "    for n in train_sizes:\n",
        "        word2vec_results[embed_sz].append(training_experiment(\"word2vec\", word2vec_lsa_featurizer, n, verbose=False))"
      ],
      "execution_count": 0,
      "outputs": []
    },
    {
      "cell_type": "code",
      "metadata": {
        "id": "9EREd9fZRgw-",
        "colab_type": "code",
        "outputId": "e5cb2511-f90e-491a-f4e4-742a78bdafa4",
        "colab": {
          "base_uri": "https://localhost:8080/",
          "height": 431
        }
      },
      "source": [
        "nrow = 2\n",
        "ncol = 3\n",
        "fig, axs = plt.subplots(nrow, ncol, figsize=(9,6), sharex = True, sharey=True)\n",
        "for i, embed_sz in enumerate(embedding_sizes):\n",
        "    axs[i//ncol, i%ncol].plot(train_sizes, word_embed_results[embed_sz][\"lsa\"], label=\"lsa\")\n",
        "    axs[i//ncol, i%ncol].plot(train_sizes, word2vec_results[embed_sz], label=\"word2vec\")\n",
        "    axs[i//ncol, i%ncol].set_title('Embedding Size of {}'.format(embed_sz))\n",
        "\n",
        "for ax in axs.flat:\n",
        "    ax.set(xlabel='Number of Train Examples', ylabel='Test Accuracy')\n",
        "\n",
        "# Hide x labels and tick labels for top plots and y ticks for right plots.\n",
        "for ax in axs.flat:\n",
        "    ax.label_outer()\n",
        "\n",
        "plt.legend(loc = \"lower right\")\n",
        "plt.suptitle('Test Accuracy of LSA and Word2Vec on Different Train Data Sizes')\n",
        "# plt.subplots_adjust(hspace=0.2)\n",
        "\n",
        "# plt.savefig('lsa-word2vec_embed-ntrain.png')\n",
        "# files.download('lsa-word2vec_embed-ntrain.png')\n",
        "plt.show()"
      ],
      "execution_count": 50,
      "outputs": [
        {
          "output_type": "display_data",
          "data": {
            "image/png": "[encoded data removed]",
            "text/plain": [
              "<Figure size 648x432 with 6 Axes>"
            ]
          },
          "metadata": {
            "tags": []
          }
        }
      ]
    },
    {
      "cell_type": "code",
      "metadata": {
        "id": "uoBCRBUyR1tW",
        "colab_type": "code",
        "colab": {}
      },
      "source": [
        ""
      ],
      "execution_count": 0,
      "outputs": []
    }
  ]
}