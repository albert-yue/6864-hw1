{
 "cells": [
  {
   "cell_type": "code",
   "execution_count": 1,
   "metadata": {
    "colab": {},
    "colab_type": "code",
    "id": "FU7xWiY6TyWS"
   },
   "outputs": [],
   "source": [
    "# %%bash\n",
    "# !(stat -t /usr/local/lib/*/dist-packages/google/colab > /dev/null 2>&1) && exit \n",
    "# rm -rf 6864-hw1\n",
    "# git clone https://github.com/lingo-mit/6864-hw1.git"
   ]
  },
  {
   "cell_type": "code",
   "execution_count": 2,
   "metadata": {
    "colab": {},
    "colab_type": "code",
    "id": "A0MHaHrdUACZ"
   },
   "outputs": [],
   "source": [
    "# import sys\n",
    "# sys.path.append(\"/content/6864-hw1\")\n",
    "\n",
    "import csv\n",
    "import itertools as it\n",
    "import numpy as np\n",
    "np.random.seed(0)\n",
    "\n",
    "import lab_util"
   ]
  },
  {
   "cell_type": "code",
   "execution_count": 3,
   "metadata": {},
   "outputs": [],
   "source": [
    "from matplotlib import pyplot as plt"
   ]
  },
  {
   "cell_type": "markdown",
   "metadata": {
    "colab_type": "text",
    "id": "cZ3MUj4iUf76"
   },
   "source": [
    "## Introduction\n",
    "\n",
    "In this lab, you'll explore three different ways of using unlabeled text data to learn pretrained word representations. Your lab report will describe the effects of different modeling decisions (representation learning objective, context size, etc.) on both qualitative properties of learned representations and their effect on a downstream prediction problem.\n",
    "\n",
    "**General lab report guidelines**\n",
    "\n",
    "Homework assignments should be submitted in the form of a research report. (We'll be providing a place to upload them before the due date, but are still sorting out some logistics.) Please upload PDFs, with a maximum of four single-spaced pages. (If you want you can use the [Association for Computational Linguistics style files](http://acl2020.org/downloads/acl2020-templates.zip).) Reports should have one section for each part of the homework assignment below. Each section should describe the details of your code implementation, and include whatever charts / tables are necessary to answer the set of questions at the end of the corresponding homework part.\n"
   ]
  },
  {
   "cell_type": "markdown",
   "metadata": {
    "colab_type": "text",
    "id": "gG654Y9J3yHw"
   },
   "source": [
    "\n",
    "We're going to be working with a dataset of product reviews. It looks like this:"
   ]
  },
  {
   "cell_type": "code",
   "execution_count": 4,
   "metadata": {
    "colab": {},
    "colab_type": "code",
    "id": "JwiX-Tc9V1xI"
   },
   "outputs": [
    {
     "name": "stdout",
     "output_type": "stream",
     "text": [
      "review: I have bought several of the Vitality canned dog food products and have found them all to be of good quality. The product looks more like a stew than a processed meat and it smells better. My Labrador is finicky and she appreciates this product better than  most.\n",
      "rating: 1 (good)\n",
      "\n",
      "review: Product arrived labeled as Jumbo Salted Peanuts...the peanuts were actually small sized unsalted. Not sure if this was an error or if the vendor intended to represent the product as \"Jumbo\".\n",
      "rating: 0 (bad)\n",
      "\n",
      "review: This is a confection that has been around a few centuries.  It is a light, pillowy citrus gelatin with nuts - in this case Filberts. And it is cut into tiny squares and then liberally coated with powdered sugar.  And it is a tiny mouthful of heaven.  Not too chewy, and very flavorful.  I highly recommend this yummy treat.  If you are familiar with the story of C.S. Lewis' \"The Lion, The Witch, and The Wardrobe\" - this is the treat that seduces Edmund into selling out his Brother and Sisters to the Witch.\n",
      "rating: 1 (good)\n",
      "\n",
      "review: If you are looking for the secret ingredient in Robitussin I believe I have found it.  I got this in addition to the Root Beer Extract I ordered (which was good) and made some cherry soda.  The flavor is very medicinal.\n",
      "rating: 0 (bad)\n",
      "\n",
      "review: Great taffy at a great price.  There was a wide assortment of yummy taffy.  Delivery was very quick.  If your a taffy lover, this is a deal.\n",
      "rating: 1 (good)\n",
      "\n",
      "review: I got a wild hair for taffy and ordered this five pound bag. The taffy was all very enjoyable with many flavors: watermelon, root beer, melon, peppermint, grape, etc. My only complaint is there was a bit too much red/black licorice-flavored pieces (just not my particular favorites). Between me, my kids, and my husband, this lasted only two weeks! I would recommend this brand of taffy -- it was a delightful treat.\n",
      "rating: 1 (good)\n",
      "\n",
      "Read 4000 total reviews.\n"
     ]
    }
   ],
   "source": [
    "data = []\n",
    "n_positive = 0\n",
    "n_disp = 0\n",
    "# with open(\"/content/6864-hw1/reviews.csv\") as reader:\n",
    "with open(\"reviews.csv\") as reader:\n",
    "    csvreader = csv.reader(reader)\n",
    "    next(csvreader)\n",
    "    for id, review, label in csvreader:\n",
    "        label = int(label)\n",
    "\n",
    "        # hacky class balancing\n",
    "        if label == 1:\n",
    "            if n_positive == 2000:\n",
    "                continue\n",
    "            n_positive += 1\n",
    "        if len(data) == 4000:\n",
    "            break\n",
    "\n",
    "        data.append((review, label))\n",
    "    \n",
    "        if n_disp > 5:\n",
    "            continue\n",
    "        n_disp += 1\n",
    "        print(\"review:\", review)\n",
    "        print(\"rating:\", label, \"(good)\" if label == 1 else \"(bad)\")\n",
    "        print()\n",
    "\n",
    "print(f\"Read {len(data)} total reviews.\")\n",
    "np.random.shuffle(data)\n",
    "reviews, labels = zip(*data)\n",
    "train_reviews = reviews[:3000]\n",
    "train_labels = labels[:3000]\n",
    "val_reviews = reviews[3000:3500]\n",
    "val_labels = labels[3000:3500]\n",
    "test_reviews = reviews[3500:]\n",
    "test_labels = labels[3500:]"
   ]
  },
  {
   "cell_type": "markdown",
   "metadata": {
    "colab_type": "text",
    "id": "8h4k40QoXFO5"
   },
   "source": [
    "We've provided a little bit of helper code for reading in the dataset; your job is to implement the learning!"
   ]
  },
  {
   "cell_type": "markdown",
   "metadata": {
    "colab_type": "text",
    "id": "twLHWqM6Z5xD"
   },
   "source": [
    "## Part 1: word representations via matrix factorization\n",
    "\n",
    "First, we'll construct the term--document matrix (look at `/content/6864-hw1/lab_util.py` in the file browser on the left if you want to see how this works)."
   ]
  },
  {
   "cell_type": "code",
   "execution_count": 5,
   "metadata": {
    "colab": {},
    "colab_type": "code",
    "id": "3WPt6Y7-Z_7P"
   },
   "outputs": [
    {
     "name": "stdout",
     "output_type": "stream",
     "text": [
      "TD matrix is 2006 x 3000\n"
     ]
    }
   ],
   "source": [
    "vectorizer = lab_util.CountVectorizer()\n",
    "vectorizer.fit(train_reviews)\n",
    "td_matrix = vectorizer.transform(train_reviews).T\n",
    "print(f\"TD matrix is {td_matrix.shape[0]} x {td_matrix.shape[1]}\")"
   ]
  },
  {
   "cell_type": "markdown",
   "metadata": {
    "colab_type": "text",
    "id": "hd3-pw4XbD4B"
   },
   "source": [
    "First, implement a function that computes word representations via latent semantic analysis:"
   ]
  },
  {
   "cell_type": "code",
   "execution_count": 6,
   "metadata": {
    "colab": {},
    "colab_type": "code",
    "id": "KASVs8KubeBE"
   },
   "outputs": [],
   "source": [
    "from numpy.linalg import svd\n",
    "\n",
    "def learn_reps_lsa(matrix, rep_size):\n",
    "    # `matrix` is a `|V| x n` matrix, where `|V|` is the number of words in the\n",
    "    # vocabulary. This function should return a `|V| x rep_size` matrix with each\n",
    "    # row corresponding to a word representation. The `sklearn.decomposition` \n",
    "    # package may be useful.\n",
    "\n",
    "    u, _, _ = svd(matrix)\n",
    "    return u[:, :rep_size]\n",
    "\n",
    "# from sklearn.decomposition import TruncatedSVD\n",
    "\n",
    "# def learn_reps_lsa_alt(matrix, rep_size):\n",
    "#     # One issue is that TruncatedSVD returns the truncation of U*Sigma, not U\n",
    "#     svd = TruncatedSVD(n_components=rep_size)\n",
    "#     svd.fit(matrix.T)\n",
    "#     return svd.components_.T"
   ]
  },
  {
   "cell_type": "markdown",
   "metadata": {
    "colab_type": "text",
    "id": "SKWzRC0dclVK"
   },
   "source": [
    "Let's look at some representations:"
   ]
  },
  {
   "cell_type": "code",
   "execution_count": 7,
   "metadata": {
    "colab": {},
    "colab_type": "code",
    "id": "-Ad7RZkwceWw"
   },
   "outputs": [
    {
     "name": "stdout",
     "output_type": "stream",
     "text": [
      "good 47\n",
      "  gerber 1.873\n",
      "  luck 1.885\n",
      "  crazy 1.890\n",
      "  flaxseed 1.906\n",
      "  suspect 1.907\n",
      "bad 201\n",
      "  disgusting 1.625\n",
      "  horrible 1.776\n",
      "  shortbread 1.778\n",
      "  gone 1.778\n",
      "  dont 1.802\n",
      "cookie 504\n",
      "  nana's 0.964\n",
      "  bars 1.363\n",
      "  odd 1.402\n",
      "  impossible 1.459\n",
      "  cookies 1.484\n",
      "jelly 351\n",
      "  twist 1.099\n",
      "  cardboard 1.197\n",
      "  peanuts 1.311\n",
      "  advertised 1.331\n",
      "  plastic 1.510\n",
      "dog 925\n",
      "  happier 1.670\n",
      "  earlier 1.681\n",
      "  eats 1.702\n",
      "  stays 1.722\n",
      "  standard 1.727\n",
      "the 36\n",
      "  suspect 1.953\n",
      "  flowers 1.961\n",
      "  leaked 1.966\n",
      "  m 1.966\n",
      "  burn 1.967\n",
      "4 292\n",
      "  shortbread 1.674\n",
      "  toast 1.683\n",
      "  mistake 1.690\n",
      "  2nd 1.701\n",
      "  icing 1.723\n"
     ]
    }
   ],
   "source": [
    "reps = learn_reps_lsa(td_matrix, 500)\n",
    "words = [\"good\", \"bad\", \"cookie\", \"jelly\", \"dog\", \"the\", \"4\"]\n",
    "show_tokens = [vectorizer.tokenizer.word_to_token[word] for word in words]\n",
    "lab_util.show_similar_words(vectorizer.tokenizer, reps, show_tokens)"
   ]
  },
  {
   "cell_type": "markdown",
   "metadata": {
    "colab_type": "text",
    "id": "LsOAGLB3iRjT"
   },
   "source": [
    "We've been operating on the raw count matrix, but in class we discussed several reweighting schemes aimed at making LSA representations more informative. \n",
    "\n",
    "Here, implement the TF-IDF transform and see how it affects learned representations."
   ]
  },
  {
   "cell_type": "code",
   "execution_count": 8,
   "metadata": {
    "colab": {},
    "colab_type": "code",
    "id": "1y3PmW-IgpqA"
   },
   "outputs": [],
   "source": [
    "def transform_tfidf(matrix):\n",
    "    # `matrix` is a `|V| x |D|` matrix of raw counts, where `|V|` is the \n",
    "    # vocabulary size and `|D|` is the number of documents in the corpus. This\n",
    "    # function should (nondestructively) return a version of `matrix` with the\n",
    "    # TF-IDF transform appliied.\n",
    "\n",
    "    num_docs = matrix.shape[1]\n",
    "    tf_matrix = matrix.copy()\n",
    "    td_occurrence = np.sum(np.where(tf_matrix > 0, 1, 0), axis=1, keepdims=True)\n",
    "    idf = np.log(num_docs / td_occurrence)\n",
    "    return tf_matrix * idf"
   ]
  },
  {
   "cell_type": "markdown",
   "metadata": {
    "colab_type": "text",
    "id": "xOprgqzHi7bk"
   },
   "source": [
    "How does this change the learned similarity function?"
   ]
  },
  {
   "cell_type": "code",
   "execution_count": 9,
   "metadata": {
    "colab": {},
    "colab_type": "code",
    "id": "SV5xKLYTi7LA"
   },
   "outputs": [
    {
     "name": "stdout",
     "output_type": "stream",
     "text": [
      "good 47\n",
      "  crazy 1.695\n",
      "  gerber 1.753\n",
      "  beat 1.758\n",
      "  homemade 1.785\n",
      "  tasting 1.799\n",
      "bad 201\n",
      "  disgusting 1.623\n",
      "  awful 1.713\n",
      "  positive 1.715\n",
      "  bland 1.731\n",
      "  gone 1.736\n",
      "cookie 504\n",
      "  nana's 1.103\n",
      "  moist 1.388\n",
      "  odd 1.452\n",
      "  impossible 1.486\n",
      "  needs 1.509\n",
      "jelly 351\n",
      "  twist 1.156\n",
      "  cardboard 1.211\n",
      "  advertised 1.402\n",
      "  plum 1.447\n",
      "  sold 1.470\n",
      "dog 925\n",
      "  happier 1.641\n",
      "  earlier 1.658\n",
      "  foods 1.690\n",
      "  stays 1.697\n",
      "  eats 1.704\n",
      "the 36\n",
      "  <unk> 1.478\n",
      "  and 1.578\n",
      "  . 1.581\n",
      "  of 1.627\n",
      "  is 1.632\n",
      "4 292\n",
      "  mistake 1.687\n",
      "  2nd 1.707\n",
      "  toast 1.708\n",
      "  table 1.714\n",
      "  70 1.723\n"
     ]
    }
   ],
   "source": [
    "td_matrix_tfidf = transform_tfidf(td_matrix)\n",
    "reps_tfidf = learn_reps_lsa(td_matrix_tfidf, 500)\n",
    "lab_util.show_similar_words(vectorizer.tokenizer, reps_tfidf, show_tokens)"
   ]
  },
  {
   "cell_type": "markdown",
   "metadata": {
    "colab_type": "text",
    "id": "HO-NG4u1kG9z"
   },
   "source": [
    "Now that we have some representations, let's see if we can do something useful with them.\n",
    "\n",
    "Below, implement a feature function that represents a document as the sum of its\n",
    "learned word embeddings.\n",
    "\n",
    "The remaining code trains a logistic regression model on a set of *labeled* reviews; we're interested in seeing how much representations learned from *unlabeled* reviews improve classification."
   ]
  },
  {
   "cell_type": "code",
   "execution_count": 9,
   "metadata": {},
   "outputs": [
    {
     "name": "stdout",
     "output_type": "stream",
     "text": [
      "(2006, 500)\n"
     ]
    },
    {
     "data": {
      "text/plain": [
       "array([[-0.10305843, -0.02823013, -0.0005387 , ..., -0.01696821,\n",
       "         0.01761233, -0.02429318],\n",
       "       [-0.06121867, -0.00787906, -0.13199975, ..., -0.01126481,\n",
       "        -0.02398841, -0.01012468],\n",
       "       [-0.07905045, -0.00272372, -0.09267989, ...,  0.03373111,\n",
       "         0.01590188, -0.00704764],\n",
       "       ...,\n",
       "       [-0.00502214,  0.00256818,  0.00766008, ...,  0.01296829,\n",
       "         0.01490828,  0.01262186],\n",
       "       [-0.00553081, -0.00273609, -0.00441299, ..., -0.00932143,\n",
       "        -0.02297195, -0.00735671],\n",
       "       [-0.02840451, -0.09642188,  0.00128551, ..., -0.01933431,\n",
       "        -0.00171207,  0.00382342]])"
      ]
     },
     "execution_count": 9,
     "metadata": {},
     "output_type": "execute_result"
    }
   ],
   "source": [
    "print(reps_tfidf.shape)\n",
    "reps_tfidf"
   ]
  },
  {
   "cell_type": "code",
   "execution_count": 42,
   "metadata": {
    "colab": {},
    "colab_type": "code",
    "id": "6B08xvIFlee3"
   },
   "outputs": [
    {
     "name": "stdout",
     "output_type": "stream",
     "text": [
      "word features, 10 examples\n",
      "test accuracy 0.496\n",
      "\n",
      "lsa features, 10 examples\n",
      "test accuracy 0.484\n",
      "\n",
      "combo features, 10 examples\n",
      "test accuracy 0.484\n",
      "\n",
      "\n"
     ]
    }
   ],
   "source": [
    "def word_featurizer(xs):\n",
    "    # normalize\n",
    "    return xs / np.sqrt((xs ** 2).sum(axis=1, keepdims=True))\n",
    "\n",
    "def lsa_featurizer(xs):\n",
    "    # This function takes in a matrix in which each row contains the word counts\n",
    "    # for the given review. It should return a matrix in which each row contains\n",
    "    # the learned feature representation of each review (e.g. the sum of LSA \n",
    "    # word representations).\n",
    "\n",
    "    feats = xs@reps_tfidf\n",
    "\n",
    "    # normalize\n",
    "    return feats / np.sqrt((feats ** 2).sum(axis=1, keepdims=True))\n",
    "\n",
    "def combo_featurizer(xs):\n",
    "    return np.concatenate((word_featurizer(xs), lsa_featurizer(xs)), axis=1)\n",
    "\n",
    "def train_model(featurizer, xs, ys):\n",
    "    import sklearn.linear_model\n",
    "    xs_featurized = featurizer(xs)\n",
    "    model = sklearn.linear_model.LogisticRegression()\n",
    "    model.fit(xs_featurized, ys)\n",
    "    return model\n",
    "\n",
    "def eval_model(model, featurizer, xs, ys, verbose=True):\n",
    "    xs_featurized = featurizer(xs)\n",
    "    pred_ys = model.predict(xs_featurized)\n",
    "    acc = np.mean(pred_ys == ys)\n",
    "    if verbose: print(\"test accuracy\", acc)\n",
    "    return acc\n",
    "\n",
    "def training_experiment(name, featurizer, n_train, verbose=True):\n",
    "    if verbose: print(f\"{name} features, {n_train} examples\")\n",
    "    train_xs = vectorizer.transform(train_reviews[:n_train])\n",
    "    train_ys = train_labels[:n_train]\n",
    "    test_xs = vectorizer.transform(test_reviews)\n",
    "    test_ys = test_labels\n",
    "    model = train_model(featurizer, train_xs, train_ys)\n",
    "    acc = eval_model(model, featurizer, test_xs, test_ys, verbose=verbose)\n",
    "    if verbose: print()\n",
    "    return acc\n",
    "\n",
    "training_experiment(\"word\", word_featurizer, 10)\n",
    "training_experiment(\"lsa\", lsa_featurizer, 10)\n",
    "training_experiment(\"combo\", combo_featurizer, 10)\n",
    "print()"
   ]
  },
  {
   "cell_type": "markdown",
   "metadata": {
    "colab_type": "text",
    "id": "rpXziVNrlfp2"
   },
   "source": [
    "**Part 1: Lab writeup**\n",
    "\n",
    "Part 1 of your lab report should discuss any implementation details that were important to filling out the code above. Then, use the code to set up experiments that answer the following questions:\n",
    "\n",
    "1. Qualitatively, what do you observe about nearest neighbors in representation    space? (E.g. what words are most similar to _the_, _dog_, _3_, and _good_?)\n",
    "\n",
    "2. How does the size of the LSA representation affect this behavior?\n",
    "\n",
    "\n",
    "3. Recall that the we can compute the word co-occurrence matrix $W_{tt} = W_    \n",
    "   {td} W_{td}^\\top$. What can you prove about the relationship between the    \n",
    "   left singular vectors of $W_{td}$ and $W_{tt}$? Do you observe this behavior \n",
    "   with your implementation of `learn_reps_lsa`? Why or why not?\n",
    "\n",
    "4. Do learned representations help with the review classification problem? What\n",
    "   is the relationship between the number of labeled examples and the effect of\n",
    "   word embeddings?\n",
    "   \n",
    "5. What is the relationship between the size of the word embeddings and their      usefulness for the classification task."
   ]
  },
  {
   "cell_type": "code",
   "execution_count": 46,
   "metadata": {},
   "outputs": [],
   "source": [
    "train_sizes = [10, 20, 30, 50, 75, 100, 200, 300, 500, 750, 1000, 1500, 2000, 2500, 3000]\n",
    "\n",
    "word_500_results = []\n",
    "lsa_500_results = []\n",
    "combo_500_results = []\n",
    "\n",
    "reps_tfidf = learn_reps_lsa(td_matrix_tfidf, 500)\n",
    "\n",
    "for n in train_sizes:\n",
    "    word_500_results.append(training_experiment(\"word\", word_featurizer, n, verbose=False))\n",
    "    lsa_500_results.append(training_experiment(\"lsa\", lsa_featurizer, n, verbose=False))\n",
    "    combo_500_results.append(training_experiment(\"combo\", combo_featurizer, n, verbose=False))"
   ]
  },
  {
   "cell_type": "code",
   "execution_count": 47,
   "metadata": {},
   "outputs": [
    {
     "data": {
      "image/png": "[encoded data removed]",
      "text/plain": [
       "<Figure size 432x432 with 1 Axes>"
      ]
     },
     "metadata": {
      "needs_background": "light"
     },
     "output_type": "display_data"
    }
   ],
   "source": [
    "plt.figure(figsize=(6, 6))\n",
    "plt.plot(train_sizes, word_500_results, label=\"word\")\n",
    "plt.plot(train_sizes, lsa_500_results, label=\"lsa\")\n",
    "plt.plot(train_sizes, combo_500_results, label=\"combo\")\n",
    "plt.legend(loc = \"lower right\")\n",
    "plt.title('Test Accuracy of Various Sets of Features on Different Train Data Sizes')\n",
    "plt.xlabel('Number of Train Examples')\n",
    "plt.ylabel('Test Accuracy')\n",
    "\n",
    "plt.savefig('assets/word_embed_matrix_e500.png')\n",
    "plt.show()"
   ]
  },
  {
   "cell_type": "code",
   "execution_count": 48,
   "metadata": {},
   "outputs": [
    {
     "name": "stdout",
     "output_type": "stream",
     "text": [
      "Embedding size:  10\n",
      "good 47\n",
      "  very 0.207\n",
      "  . 0.210\n",
      "  p 0.227\n",
      "  sure 0.235\n",
      "  u 0.260\n",
      "bad 201\n",
      "  agree 0.240\n",
      "  entirely 0.274\n",
      "  positive 0.274\n",
      "  forward 0.282\n",
      "  overly 0.285\n",
      "cookie 504\n",
      "  cookies 0.204\n",
      "  muffins 0.261\n",
      "  cake 0.262\n",
      "  tough 0.271\n",
      "  excellent 0.274\n",
      "jelly 351\n",
      "  gifts 0.091\n",
      "  soups 0.098\n",
      "  vanilla 0.112\n",
      "  mixing 0.121\n",
      "  stuck 0.134\n",
      "dog 925\n",
      "  dogs 0.119\n",
      "  him 0.137\n",
      "  baby 0.147\n",
      "  he 0.191\n",
      "  lamb 0.194\n",
      "the 36\n",
      "  have 0.086\n",
      "  in 0.103\n",
      "  . 0.122\n",
      "  be 0.140\n",
      "  that 0.145\n",
      "4 292\n",
      "  1 0.039\n",
      "  6 0.069\n",
      "  5 0.112\n",
      "  protein 0.114\n",
      "  7 0.124\n",
      "\n",
      "Embedding size:  50\n",
      "good 47\n",
      "  quick 0.594\n",
      "  everyone 0.673\n",
      "  decide 0.674\n",
      "  than 0.713\n",
      "  better 0.726\n",
      "bad 201\n",
      "  expect 0.787\n",
      "  feeling 0.853\n",
      "  strange 0.875\n",
      "  just 0.936\n",
      "  about 0.943\n",
      "cookie 504\n",
      "  cookies 0.282\n",
      "  nana's 0.325\n",
      "  oreos 0.634\n",
      "  bars 0.708\n",
      "  shortbread 0.818\n",
      "jelly 351\n",
      "  gifts 0.432\n",
      "  creamer 0.603\n",
      "  online 0.798\n",
      "  milk 0.838\n",
      "  maybe 0.864\n",
      "dog 925\n",
      "  foods 0.574\n",
      "  pet 0.636\n",
      "  nutritious 0.652\n",
      "  pets 0.687\n",
      "  switched 0.719\n",
      "the 36\n",
      "  of 0.723\n",
      "  . 0.775\n",
      "  in 0.824\n",
      "  on 0.926\n",
      "  to 0.930\n",
      "4 292\n",
      "  6 0.361\n",
      "  70 0.542\n",
      "  1 0.625\n",
      "  concentrated 0.666\n",
      "  stevia 0.732\n",
      "\n",
      "Embedding size:  100\n",
      "good 47\n",
      "  everyone 1.078\n",
      "  lunches 1.089\n",
      "  as 1.145\n",
      "  pretty 1.182\n",
      "  but 1.199\n",
      "bad 201\n",
      "  taste 1.038\n",
      "  strange 1.084\n",
      "  like 1.152\n",
      "  myself 1.169\n",
      "  nasty 1.177\n",
      "cookie 504\n",
      "  cookies 0.346\n",
      "  nana's 0.517\n",
      "  oreos 0.698\n",
      "  bars 0.796\n",
      "  craving 1.026\n",
      "jelly 351\n",
      "  creamer 0.891\n",
      "  gifts 1.008\n",
      "  twist 1.044\n",
      "  packages 1.150\n",
      "  advertised 1.179\n",
      "dog 925\n",
      "  foods 0.996\n",
      "  switched 1.044\n",
      "  pet 1.096\n",
      "  loves 1.147\n",
      "  appeal 1.150\n",
      "the 36\n",
      "  of 0.906\n",
      "  <unk> 0.976\n",
      "  . 1.053\n",
      "  and 1.142\n",
      "  to 1.194\n",
      "4 292\n",
      "  1 0.871\n",
      "  6 0.879\n",
      "  70 0.934\n",
      "  concentrated 0.989\n",
      "  measure 1.024\n",
      "\n",
      "Embedding size:  500\n",
      "good 47\n",
      "  crazy 1.695\n",
      "  gerber 1.753\n",
      "  beat 1.758\n",
      "  homemade 1.785\n",
      "  tasting 1.799\n",
      "bad 201\n",
      "  disgusting 1.623\n",
      "  awful 1.713\n",
      "  positive 1.715\n",
      "  bland 1.731\n",
      "  gone 1.736\n",
      "cookie 504\n",
      "  nana's 1.103\n",
      "  moist 1.388\n",
      "  odd 1.452\n",
      "  impossible 1.486\n",
      "  needs 1.509\n",
      "jelly 351\n",
      "  twist 1.156\n",
      "  cardboard 1.211\n",
      "  advertised 1.402\n",
      "  plum 1.447\n",
      "  sold 1.470\n",
      "dog 925\n",
      "  happier 1.641\n",
      "  earlier 1.658\n",
      "  foods 1.690\n",
      "  stays 1.697\n",
      "  eats 1.704\n",
      "the 36\n",
      "  <unk> 1.478\n",
      "  and 1.578\n",
      "  . 1.581\n",
      "  of 1.627\n",
      "  is 1.632\n",
      "4 292\n",
      "  mistake 1.687\n",
      "  2nd 1.707\n",
      "  toast 1.708\n",
      "  table 1.714\n",
      "  70 1.723\n",
      "\n",
      "Embedding size:  1000\n",
      "good 47\n",
      "  luck 1.874\n",
      "  a 1.879\n",
      "  suspect 1.891\n",
      "  shape 1.899\n",
      "  reminded 1.906\n",
      "bad 201\n",
      "  disgusting 1.772\n",
      "  touch 1.843\n",
      "  wild 1.847\n",
      "  entirely 1.869\n",
      "  timely 1.872\n",
      "cookie 504\n",
      "  nana's 1.543\n",
      "  moist 1.646\n",
      "  needs 1.732\n",
      "  chewy 1.778\n",
      "  odd 1.782\n",
      "jelly 351\n",
      "  twist 1.495\n",
      "  softer 1.595\n",
      "  shocked 1.696\n",
      "  gummy 1.734\n",
      "  supermarket 1.745\n",
      "dog 925\n",
      "  happier 1.820\n",
      "  earlier 1.835\n",
      "  owner 1.853\n",
      "  eats 1.855\n",
      "  nutrients 1.869\n",
      "the 36\n",
      "  <unk> 1.556\n",
      "  is 1.653\n",
      "  suspect 1.715\n",
      "  . 1.738\n",
      "  fence 1.768\n",
      "4 292\n",
      "  economical 1.837\n",
      "  mistake 1.839\n",
      "  total 1.861\n",
      "  70 1.861\n",
      "  certainly 1.878\n",
      "\n",
      "Embedding size:  2006\n",
      "good 47\n",
      "  treats 2.000\n",
      "  kitchen 2.000\n",
      "  year 2.000\n",
      "  paid 2.000\n",
      "  about 2.000\n",
      "bad 201\n",
      "  negative 2.000\n",
      "  flat 2.000\n",
      "  felidae 2.000\n",
      "  really 2.000\n",
      "  mg 2.000\n",
      "cookie 504\n",
      "  carbs 2.000\n",
      "  pineapple 2.000\n",
      "  couple 2.000\n",
      "  cute 2.000\n",
      "  starting 2.000\n",
      "jelly 351\n",
      "  many 2.000\n",
      "  entirely 2.000\n",
      "  son's 2.000\n",
      "  flavorful 2.000\n",
      "  substitute 2.000\n",
      "dog 925\n",
      "  product 2.000\n",
      "  ! 2.000\n",
      "  machine 2.000\n",
      "  melitta 2.000\n",
      "  pumpkin 2.000\n",
      "the 36\n",
      "  stated 2.000\n",
      "  end 2.000\n",
      "  teaspoon 2.000\n",
      "  turn 2.000\n",
      "  shelf 2.000\n",
      "4 292\n",
      "  more 2.000\n",
      "  them 2.000\n",
      "  say 2.000\n",
      "  said 2.000\n",
      "  found 2.000\n",
      "\n"
     ]
    }
   ],
   "source": [
    "embedding_sizes = [10, 50, 100, 500, 1000, 2006]\n",
    "for embed_sz in embedding_sizes:\n",
    "    print(\"Embedding size: \", embed_sz)\n",
    "    reps_tfidf = learn_reps_lsa(td_matrix_tfidf, embed_sz)\n",
    "    lab_util.show_similar_words(vectorizer.tokenizer, reps_tfidf, show_tokens)\n",
    "    print()"
   ]
  },
  {
   "cell_type": "code",
   "execution_count": 35,
   "metadata": {},
   "outputs": [],
   "source": [
    "embedding_sizes = [10, 50, 100, 500, 1000, 2000]\n",
    "train_sizes = [10, 20, 30, 50, 75, 100, 200, 300, 500, 750, 1000, 1500, 2000, 2500, 3000]\n",
    "\n",
    "word_embed_results = {esz: {\"word\": [], \"lsa\": [], \"combo\": []} for esz in embedding_sizes}\n",
    "\n",
    "for embed_sz in embedding_sizes:\n",
    "    reps_tfidf = learn_reps_lsa(td_matrix_tfidf, embed_sz)\n",
    "    \n",
    "    word_results = word_embed_results[embed_sz][\"word\"]\n",
    "    lsa_results = word_embed_results[embed_sz][\"lsa\"]\n",
    "    combo_results = word_embed_results[embed_sz][\"combo\"]\n",
    "\n",
    "    for n in train_sizes:\n",
    "        word_results.append(training_experiment(\"word\", word_featurizer, n, verbose=False))\n",
    "        lsa_results.append(training_experiment(\"lsa\", lsa_featurizer, n, verbose=False))\n",
    "        combo_results.append(training_experiment(\"combo\", combo_featurizer, n, verbose=False))"
   ]
  },
  {
   "cell_type": "code",
   "execution_count": 36,
   "metadata": {},
   "outputs": [
    {
     "data": {
      "image/png": "[encoded data removed]",
      "text/plain": [
       "<Figure size 648x432 with 6 Axes>"
      ]
     },
     "metadata": {
      "needs_background": "light"
     },
     "output_type": "display_data"
    }
   ],
   "source": [
    "nrow = 2\n",
    "ncol = 3\n",
    "fig, axs = plt.subplots(nrow, ncol, figsize=(9,6), sharex = True, sharey=True)\n",
    "for i, embed_sz in enumerate(embedding_sizes):\n",
    "    axs[i//ncol, i%ncol].plot(train_sizes, word_embed_results[embed_sz][\"word\"], label=\"word\")\n",
    "    axs[i//ncol, i%ncol].plot(train_sizes, word_embed_results[embed_sz][\"lsa\"], label=\"lsa\")\n",
    "    axs[i//ncol, i%ncol].plot(train_sizes, word_embed_results[embed_sz][\"combo\"], label=\"combo\")\n",
    "    axs[i//ncol, i%ncol].set_title('Embedding Size of {}'.format(embed_sz))\n",
    "\n",
    "for ax in axs.flat:\n",
    "    ax.set(xlabel='Number of Train Examples', ylabel='Test Accuracy')\n",
    "\n",
    "# Hide x labels and tick labels for top plots and y ticks for right plots.\n",
    "for ax in axs.flat:\n",
    "    ax.label_outer()\n",
    "\n",
    "plt.legend(loc = \"lower right\")\n",
    "plt.suptitle('Test Accuracy of Various Sets of Features on Different Train Data Sizes')\n",
    "# plt.subplots_adjust(hspace=0.2)\n",
    "\n",
    "plt.savefig('assets/word_embed_matrix_embed-ntrain.png')\n",
    "plt.show()"
   ]
  },
  {
   "cell_type": "code",
   "execution_count": 37,
   "metadata": {},
   "outputs": [
    {
     "data": {
      "image/png": "[encoded data removed]",
      "text/plain": [
       "<Figure size 432x432 with 1 Axes>"
      ]
     },
     "metadata": {
      "needs_background": "light"
     },
     "output_type": "display_data"
    }
   ],
   "source": [
    "train_size = 1000\n",
    "train_idx = train_sizes.index(train_size)\n",
    "\n",
    "lsa_acc_by_embed_size = []\n",
    "for embed_sz in embedding_sizes:\n",
    "    acc = word_embed_results[embed_sz][\"lsa\"][train_idx]\n",
    "    lsa_acc_by_embed_size.append(acc)\n",
    "\n",
    "plt.figure(figsize=(6, 6))\n",
    "\n",
    "plt.plot(embedding_sizes, lsa_acc_by_embed_size, label=\"lsa\")\n",
    "# plt.legend(loc = \"lower right\")\n",
    "plt.title('Test Accuracy of Various LSA Embedding Sizes')\n",
    "plt.xlabel('Size of Word Embeddings')\n",
    "plt.ylabel('Test Accuracy')\n",
    "\n",
    "plt.savefig('assets/word_embed_matrix_ntrain{}.png'.format(train_size))\n",
    "plt.show()"
   ]
  },
  {
   "cell_type": "code",
   "execution_count": 38,
   "metadata": {},
   "outputs": [
    {
     "data": {
      "image/png": "[encoded data removed]",
      "text/plain": [
       "<Figure size 720x360 with 2 Axes>"
      ]
     },
     "metadata": {
      "needs_background": "light"
     },
     "output_type": "display_data"
    }
   ],
   "source": [
    "fig, axs = plt.subplots(1, 2, figsize=(10, 5), sharey=True)\n",
    "ax_lsa, ax_combo = axs\n",
    "\n",
    "ax_lsa.set_title('lsa features')\n",
    "ax_combo.set_title('combo features')\n",
    "\n",
    "for train_size in [500, 1000, 2000, 3000]:\n",
    "    train_idx = train_sizes.index(train_size)\n",
    "    lsa_acc_by_embed_size = []\n",
    "    combo_acc_by_embed_size = []\n",
    "    for embed_sz in embedding_sizes:\n",
    "        acc_lsa = word_embed_results[embed_sz][\"lsa\"][train_idx]\n",
    "        lsa_acc_by_embed_size.append(acc_lsa)\n",
    "        acc_combo = word_embed_results[embed_sz][\"combo\"][train_idx]\n",
    "        combo_acc_by_embed_size.append(acc_lsa)\n",
    "    ax_lsa.plot(embedding_sizes, lsa_acc_by_embed_size, label=\"{}\".format(train_size))\n",
    "    ax_combo.plot(embedding_sizes, combo_acc_by_embed_size, label=\"{}\".format(train_size))\n",
    "\n",
    "plt.legend(loc = \"lower right\")\n",
    "plt.suptitle('Test Accuracy of Various LSA Embedding Sizes')\n",
    "\n",
    "for ax in axs.flat:\n",
    "    ax.set(xlabel='Size of Word Embeddings', ylabel='Test Accuracy')\n",
    "    # Hide x labels and tick labels for top plots and y ticks for right plots.\n",
    "    ax.label_outer()\n",
    "\n",
    "plt.savefig('assets/word_embed_matrix_ntrain.png')\n",
    "plt.show()"
   ]
  },
  {
   "cell_type": "code",
   "execution_count": 43,
   "metadata": {},
   "outputs": [
    {
     "name": "stdout",
     "output_type": "stream",
     "text": [
      "[[ 6.89031937e-01  6.72372892e-01  1.78411037e-01 ...  5.13700980e-05\n",
      "   4.90437295e-21 -9.44750584e-20]\n",
      " [ 2.31553598e-02 -5.20963554e-02 -1.21153239e-02 ... -1.71082540e-05\n",
      "   4.71371354e-18 -1.05396477e-18]\n",
      " [ 3.83301968e-02 -4.29225155e-02 -1.93856196e-02 ...  4.32473026e-04\n",
      "   1.16146056e-17  6.05555764e-18]\n",
      " ...\n",
      " [ 3.17231578e-04 -6.50245704e-04 -1.52675912e-03 ...  2.39091962e-03\n",
      "   2.35042687e-17  1.10276054e-16]\n",
      " [ 4.42263586e-04 -2.14287700e-04  4.98282343e-04 ... -1.15934843e-02\n",
      "   2.79584295e-17 -1.28965953e-16]\n",
      " [ 2.76302849e-03  1.39797955e-02  5.86256685e-03 ...  9.53740138e-03\n",
      "   1.59572510e-16 -8.47125184e-17]]\n",
      "[[-6.89031937e-01  6.72372892e-01  1.78411037e-01 ...  5.13700980e-05\n",
      "   8.73918996e-18  5.99157466e-18]\n",
      " [-2.31553598e-02 -5.20963554e-02 -1.21153239e-02 ... -1.71082541e-05\n",
      "   1.42626216e-17 -2.70873106e-17]\n",
      " [-3.83301968e-02 -4.29225155e-02 -1.93856196e-02 ...  4.32473026e-04\n",
      "   5.01336755e-18 -5.45541899e-17]\n",
      " ...\n",
      " [-3.17231578e-04 -6.50245704e-04 -1.52675912e-03 ...  2.39091962e-03\n",
      "  -1.95254541e-16 -9.33414640e-17]\n",
      " [-4.42263586e-04 -2.14287700e-04  4.98282343e-04 ... -1.15934843e-02\n",
      "  -8.62861000e-16  1.46773142e-15]\n",
      " [-2.76302849e-03  1.39797955e-02  5.86256685e-03 ...  9.53740138e-03\n",
      "  -4.25463500e-17 -6.75480556e-16]]\n",
      "[9.78705686e+02 2.58826144e+02 1.76264269e+02 ... 2.44903519e-01\n",
      " 4.34632680e-13 4.51972230e-15]\n",
      "[False False False ... False False False]\n"
     ]
    }
   ],
   "source": [
    "u_td, sigma_td, _ = svd(td_matrix)\n",
    "u_tt, _, _ = svd(td_matrix@td_matrix.T)\n",
    "print(u_td)\n",
    "print(u_tt)\n",
    "print(sigma_td)"
   ]
  },
  {
   "cell_type": "code",
   "execution_count": null,
   "metadata": {},
   "outputs": [],
   "source": [
    "print(np.diff(sigma_td) <= 0) # confirm that sigma is indecreasing (non-incr.) order"
   ]
  },
  {
   "cell_type": "markdown",
   "metadata": {
    "colab_type": "text",
    "id": "AxfunCYh5nmZ"
   },
   "source": [
    "## Part 2: word representations via language modeling\n",
    "\n",
    "In this section, we'll train a word embedding model with a word2vec-style objective rather than a matrix factorization objective. This requires a little more work; we've provided scaffolding for a PyTorch model implementation below.\n",
    "(If you've never used PyTorch before, there are some tutorials [here](https://pytorch.org/tutorials/). You're also welcome to implement these experiments in\n",
    "any other framework of your choosing.)"
   ]
  },
  {
   "cell_type": "code",
   "execution_count": 24,
   "metadata": {
    "colab": {},
    "colab_type": "code",
    "id": "M1napibQ6aub"
   },
   "outputs": [],
   "source": [
    "import torch\n",
    "import torch.nn as nn\n",
    "import torch.nn.functional as F\n",
    "import torch.optim as optim\n",
    "import torch.utils.data as torch_data\n",
    "\n",
    "class Word2VecModel(nn.Module):\n",
    "    # A torch module implementing a word2vec predictor. The `forward` function\n",
    "    # should take a batch of context word ids as input and predict the word \n",
    "    # in the middle of the context as output, as in the CBOW model from lecture.\n",
    "\n",
    "    def __init__(self, vocab_size, embed_dim):\n",
    "        super().__init__()\n",
    "\n",
    "        self.vocab_size = vocab_size\n",
    "        self.embed_dim = embed_dim\n",
    "        self.V = nn.Embedding(vocab_size, embed_dim)\n",
    "        self.U = nn.Linear(embed_dim, vocab_size)\n",
    "        self.log_softmax = nn.LogSoftmax(dim=1)\n",
    "\n",
    "    def forward(self, context):\n",
    "        # Context is an `n_batch x n_context` matrix of integer word ids\n",
    "        # this function should return a set of scores for predicting the word \n",
    "        # in the middle of the context\n",
    "        n_batch, n_context = context.shape\n",
    "        embeddings = self.V(context)  # n_batch x n_context x self.embed_dim\n",
    "        avg_context = torch.sum(embeddings, dim=1)\n",
    "        output = self.U(avg_context)\n",
    "        if not self.training:\n",
    "            # training uses loss that incorporates softmax\n",
    "            # apply softmax for prediction\n",
    "            output = self.log_softmax(output)\n",
    "        return output\n",
    "        "
   ]
  },
  {
   "cell_type": "code",
   "execution_count": 31,
   "metadata": {
    "colab": {},
    "colab_type": "code",
    "id": "ePgZlityuWr3"
   },
   "outputs": [],
   "source": [
    "def learn_reps_word2vec(corpus, window_size, rep_size, n_epochs, n_batch):\n",
    "    # This method takes in a corpus of training sentences. It returns a matrix of\n",
    "    # word embeddings with the same structure as used in the previous section of \n",
    "    # the assignment. (You can extract this matrix from the parameters of the \n",
    "    # Word2VecModel.)\n",
    "\n",
    "    tokenizer = lab_util.Tokenizer()\n",
    "    tokenizer.fit(corpus)\n",
    "    tokenized_corpus = tokenizer.tokenize(corpus)\n",
    "\n",
    "    ngrams = lab_util.get_ngrams(tokenized_corpus, window_size)\n",
    "\n",
    "#     device = torch.device('cuda')  # run on colab gpu\n",
    "#     device = torch.device('cpu')\n",
    "#     model = Word2VecModel(tokenizer.vocab_size, rep_size).to(device)\n",
    "    model = Word2VecModel(tokenizer.vocab_size, rep_size)\n",
    "    opt = optim.Adam(model.parameters(), lr=0.001)\n",
    "    loss_fn = nn.CrossEntropyLoss()\n",
    "\n",
    "    loader = torch_data.DataLoader(ngrams, batch_size=n_batch, shuffle=True)\n",
    "\n",
    "    model.train()\n",
    "    for epoch in range(n_epochs):\n",
    "        for context, label in loader:\n",
    "            # as described above, `context` is a batch of context word ids (n_batch, n_context), and\n",
    "            # `label` is a batch of predicted word labels of shape (n_batch,)\n",
    "#             context = context.to(device)\n",
    "#             label = label.to(device)\n",
    "\n",
    "            model.zero_grad()  # clear gradients\n",
    "            preds = model(context)  # n_batch x vocab_size\n",
    "            loss = loss_fn(preds, label)\n",
    "            loss.backward()  # compute gradients\n",
    "            opt.step()\n",
    "\n",
    "    # reminder: you want to return a `vocab_size x embedding_size` numpy array\n",
    "    embedding_matrix = model.V.weight.cpu().detach().numpy()\n",
    "    return embedding_matrix"
   ]
  },
  {
   "cell_type": "code",
   "execution_count": 19,
   "metadata": {},
   "outputs": [
    {
     "name": "stdout",
     "output_type": "stream",
     "text": [
      "<class 'torch.Tensor'>\n",
      "tensor([[ 0.5595, -4.5503, -2.0279,  ..., -0.0096,  1.6270, -0.2649],\n",
      "        [-2.4358,  3.1279, -0.7530,  ...,  1.7882,  0.9369,  4.8111],\n",
      "        [ 2.0083,  3.8316, -5.3747,  ...,  0.7893, -2.2889, -0.1213],\n",
      "        [ 4.2201, -3.8971, -2.0721,  ..., -3.4914, -1.5532, -0.5834],\n",
      "        [-0.1386, -2.4155,  3.1930,  ..., -0.2772,  2.6812, -0.0492]],\n",
      "       grad_fn=<SumBackward1>)\n"
     ]
    },
    {
     "data": {
      "text/plain": [
       "torch.Size([5, 2006])"
      ]
     },
     "execution_count": 19,
     "metadata": {},
     "output_type": "execute_result"
    }
   ],
   "source": [
    "# Testing\n",
    "corpus = train_reviews\n",
    "window_size = 2\n",
    "rep_size = 500\n",
    "\n",
    "ex_context = np.array([\n",
    "    [1103,   32,  789,  104],\n",
    "    [ 149,   16,  705,   12],\n",
    "    [  60,   35,  216,   12],\n",
    "    [  42,  741,   53,  278],\n",
    "    [   0, 1822,  480,    3]])\n",
    "ex_context = torch.LongTensor(ex_context)\n",
    "ex_label = torch.Tensor([ 21,  19, 872,  12,  74])\n",
    "\n",
    "tokenizer = lab_util.Tokenizer()\n",
    "tokenizer.fit(corpus)\n",
    "tokenized_corpus = tokenizer.tokenize(corpus)\n",
    "\n",
    "ngrams = lab_util.get_ngrams(tokenized_corpus, window_size)\n",
    "model = Word2VecModel(tokenizer.vocab_size, rep_size)\n",
    "print(type(ex_context))\n",
    "result = model(ex_context)\n",
    "result.size()"
   ]
  },
  {
   "cell_type": "code",
   "execution_count": 32,
   "metadata": {
    "colab": {},
    "colab_type": "code",
    "id": "aaUy1cNuB3W1"
   },
   "outputs": [],
   "source": [
    "reps_word2vec = learn_reps_word2vec(train_reviews, 2, 500, 10, 100)"
   ]
  },
  {
   "cell_type": "markdown",
   "metadata": {
    "colab_type": "text",
    "id": "O3oE-tpR7I39"
   },
   "source": [
    "After training the embeddings, we can try to visualize the embedding space to see if it makes sense. First, we can take any word in the space and check its closest neighbors."
   ]
  },
  {
   "cell_type": "code",
   "execution_count": 33,
   "metadata": {
    "colab": {},
    "colab_type": "code",
    "id": "yMW4QND56bHF"
   },
   "outputs": [
    {
     "name": "stdout",
     "output_type": "stream",
     "text": [
      "good 47\n",
      "  truffles 1.690\n",
      "  140 1.704\n",
      "  current 1.709\n",
      "  impressed 1.725\n",
      "  poor 1.725\n",
      "bad 201\n",
      "  overpowering 1.643\n",
      "  weird 1.662\n",
      "  guy 1.702\n",
      "  complaints 1.718\n",
      "  crispy 1.725\n",
      "cookie 504\n",
      "  jars 1.667\n",
      "  href 1.702\n",
      "  supermarket 1.719\n",
      "  gallon 1.732\n",
      "  fairly 1.736\n",
      "jelly 351\n",
      "  spring 1.700\n",
      "  daily 1.710\n",
      "  going 1.715\n",
      "  packets 1.731\n",
      "  10 1.733\n",
      "dog 925\n",
      "  stick 1.684\n",
      "  dishes 1.694\n",
      "  old 1.729\n",
      "  science 1.737\n",
      "  brewer 1.748\n",
      "the 36\n",
      "  a 1.535\n",
      "  my 1.609\n",
      "  mrs 1.632\n",
      "  another 1.694\n",
      "  their 1.697\n",
      "4 292\n",
      "  carries 1.676\n",
      "  switch 1.680\n",
      "  variety 1.706\n",
      "  number 1.729\n",
      "  following 1.731\n"
     ]
    }
   ],
   "source": [
    "lab_util.show_similar_words(vectorizer.tokenizer, reps_word2vec, show_tokens)"
   ]
  },
  {
   "cell_type": "markdown",
   "metadata": {
    "colab_type": "text",
    "id": "ue-9CPSc7fi9"
   },
   "source": [
    "We can also cluster the embedding space. Clustering in 4 or more dimensions is hard to visualize, and even clustering in 2 or 3 can be difficult because there are so many words in the vocabulary. One thing we can try to do is assign cluster labels and qualitiatively look for an underlying pattern in the clusters."
   ]
  },
  {
   "cell_type": "code",
   "execution_count": 34,
   "metadata": {
    "colab": {},
    "colab_type": "code",
    "id": "v-Yf6NMCXVx4"
   },
   "outputs": [
    {
     "name": "stdout",
     "output_type": "stream",
     "text": [
      "pieces: 1\n",
      "eaten: 1\n",
      "beer: 1\n",
      "lays: 1\n",
      "ok: 1\n",
      "go: 1\n",
      "has: 1\n",
      "its: 1\n",
      "mean: 1\n",
      "puppy: 1\n",
      "zero: 1\n",
      "fiber: 1\n",
      "rate: 1\n",
      "colors: 1\n",
      "packing: 1\n",
      "holes: 1\n",
      "rica: 1\n",
      "than: 2\n",
      "filled: 2\n",
      "expiration: 2\n",
      "him: 2\n",
      "target: 2\n",
      "buying: 3\n",
      "below: 3\n",
      "cubes: 3\n",
      "help: 3\n",
      "update: 3\n",
      "nearly: 3\n",
      "needed: 3\n",
      "learned: 3\n",
      "will: 3\n",
      "doesn't: 3\n",
      "decide: 3\n",
      "lasts: 3\n",
      "caramels: 4\n",
      "large: 4\n",
      "change: 4\n",
      "average: 4\n",
      "potassium: 4\n",
      "solid: 4\n",
      "we: 4\n",
      "fall: 5\n",
      "spread: 5\n",
      "lunches: 5\n",
      "excellent: 5\n",
      "worked: 5\n",
      "someone: 5\n",
      "warning: 5\n",
      "artificial: 5\n",
      "plus: 5\n",
      "shipment: 5\n",
      "beef: 5\n",
      "granted: 5\n",
      "starbucks: 5\n",
      "im: 6\n",
      "prime: 6\n",
      "general: 6\n",
      "without: 6\n",
      "crackers: 6\n",
      "cookies: 6\n",
      "kind: 6\n",
      "coffee: 6\n",
      "never: 6\n",
      "calcium: 6\n",
      "morning: 6\n",
      "description: 6\n",
      "pouch: 6\n",
      "still: 6\n",
      "fruit: 6\n",
      "truly: 6\n",
      "next: 6\n",
      "muffin: 7\n",
      "brewer: 7\n",
      "months: 7\n",
      "subtle: 7\n",
      "classic: 7\n",
      "birthday: 7\n",
      "plum: 7\n",
      "unfortunately: 7\n",
      "that's: 7\n",
      "moved: 8\n",
      "seen: 8\n",
      "suggest: 8\n",
      "given: 8\n",
      "bought: 8\n",
      "teeth: 9\n",
      "amazing: 9\n",
      "hint: 9\n",
      "reviews: 9\n",
      "caffeine: 9\n",
      "bad: 9\n",
      "disappointed: 9\n",
      "times: 9\n",
      "living: 9\n",
      "40: 9\n",
      "un: 9\n",
      "treats: 9\n",
      "something: 9\n",
      "mill: 9\n",
      "double: 9\n"
     ]
    }
   ],
   "source": [
    "from sklearn.cluster import KMeans\n",
    "\n",
    "indices = KMeans(n_clusters=10).fit_predict(reps_word2vec)\n",
    "zipped = list(zip(range(vectorizer.tokenizer.vocab_size), indices))\n",
    "np.random.shuffle(zipped)\n",
    "zipped = zipped[:100]\n",
    "zipped = sorted(zipped, key=lambda x: x[1])\n",
    "for token, cluster_idx in zipped:\n",
    "    word = vectorizer.tokenizer.token_to_word[token]\n",
    "    print(f\"{word}: {cluster_idx}\")"
   ]
  },
  {
   "cell_type": "markdown",
   "metadata": {
    "colab_type": "text",
    "id": "ci1TkENU78Wn"
   },
   "source": [
    "Finally, we can use the trained word embeddings to construct vector representations of full reviews. One common approach is to simply average all the word embeddings in the review to create an overall embedding. Implement the transform function in Word2VecFeaturizer to do this."
   ]
  },
  {
   "cell_type": "code",
   "execution_count": 43,
   "metadata": {
    "colab": {},
    "colab_type": "code",
    "id": "A5vjmRV6Dgbu"
   },
   "outputs": [
    {
     "name": "stdout",
     "output_type": "stream",
     "text": [
      "word2vec features, 10 examples\n",
      "test accuracy 0.522\n",
      "\n"
     ]
    },
    {
     "data": {
      "text/plain": [
       "0.522"
      ]
     },
     "execution_count": 43,
     "metadata": {},
     "output_type": "execute_result"
    }
   ],
   "source": [
    "def word2vec_lsa_featurizer(xs):\n",
    "    feats = xs@reps_word2vec # Your code here!\n",
    "\n",
    "    # normalize\n",
    "    return feats / np.sqrt((feats ** 2).sum(axis=1, keepdims=True))\n",
    "\n",
    "training_experiment(\"word2vec\", word2vec_lsa_featurizer, 10)"
   ]
  },
  {
   "cell_type": "markdown",
   "metadata": {
    "colab_type": "text",
    "id": "XSfoQbxaXtfH"
   },
   "source": [
    "**Part 2: Lab writeup**\n",
    "\n",
    "Part 2 of your lab report should discuss any implementation details that were important to filling out the code above. Then, use the code to set up experiments that answer the following questions:\n",
    "\n",
    "1. Qualitatively, what do you observe about nearest neighbors in representation space? (E.g. what words are most similar to _the_, _dog_, _3_, and _good_?) How well do word2vec representations correspond to your intuitions about word similarity?\n",
    "\n",
    "2. One important parameter in word2vec-style models is context size. How does changing the context size affect the kinds of representations that are learned?\n",
    "\n",
    "3. How do results on the downstream classification problem compare to \n",
    "   part 1?\n",
    "\n",
    "4. What are some advantages and disadvantages of learned embedding representations, relative to the featurization done in part 1?\n",
    "\n",
    "5. What are some potential problems with constructing a representation of the review by averaging the embeddings of the individual words?"
   ]
  },
  {
   "cell_type": "markdown",
   "metadata": {},
   "source": [
    "***Do this part in Colab for faster learning in learn_reps_word2vec***"
   ]
  },
  {
   "cell_type": "code",
   "execution_count": null,
   "metadata": {},
   "outputs": [],
   "source": [
    "context_sizes = [1, 2, 3, 5, 10, 20, 30, 50]\n",
    "for csz in context_sizes:\n",
    "    print(\"Context window size: \", csz)\n",
    "    reps_word2vec_test = learn_reps_word2vec(train_reviews, csz, 500, 10, 100)\n",
    "    lab_util.show_similar_words(vectorizer.tokenizer, reps_word2vec_test, show_tokens)\n",
    "    print()"
   ]
  },
  {
   "cell_type": "code",
   "execution_count": 44,
   "metadata": {},
   "outputs": [],
   "source": [
    "train_sizes = [10, 20, 30, 50, 75, 100, 200, 300, 500, 750, 1000, 1500, 2000, 2500, 3000]\n",
    "\n",
    "word2vec_500_results = []\n",
    "\n",
    "# reps_word2vec = learn_reps_word2vec(train_reviews, 2, 500, 10, 100)\n",
    "\n",
    "for n in train_sizes:\n",
    "    word2vec_500_results.append(training_experiment(\"word2vec\", word2vec_lsa_featurizer, n, verbose=False))"
   ]
  },
  {
   "cell_type": "code",
   "execution_count": 48,
   "metadata": {},
   "outputs": [
    {
     "data": {
      "image/png": "[encoded data removed]",
      "text/plain": [
       "<Figure size 432x432 with 1 Axes>"
      ]
     },
     "metadata": {
      "needs_background": "light"
     },
     "output_type": "display_data"
    }
   ],
   "source": [
    "plt.figure(figsize=(6, 6))\n",
    "plt.plot(train_sizes, lsa_500_results, label=\"lsa\")\n",
    "plt.plot(train_sizes, word2vec_500_results, label=\"word2vec\")\n",
    "plt.legend(loc = \"lower right\")\n",
    "plt.title('Test Accuracy of LSA and Word2Vec on Different Train Data Sizes')\n",
    "plt.xlabel('Number of Train Examples')\n",
    "plt.ylabel('Test Accuracy')\n",
    "\n",
    "plt.savefig('assets/word2vec-vs-lsa_e500.png')\n",
    "plt.show()"
   ]
  },
  {
   "cell_type": "code",
   "execution_count": null,
   "metadata": {},
   "outputs": [],
   "source": [
    "embedding_sizes = [10, 50, 100, 500, 1000, 2000]\n",
    "train_sizes = [10, 20, 30, 50, 75, 100, 200, 300, 500, 750, 1000, 1500, 2000, 2500, 3000]\n",
    "\n",
    "word2vec_results = {esz: [] for esz in embedding_sizes}\n",
    "\n",
    "for embed_sz in embedding_sizes:\n",
    "    reps_word2vec = learn_reps_word2vec(train_reviews, 2, embed_sz, 10, 100)\n",
    "\n",
    "    for n in train_sizes:\n",
    "        word2vec_results[embed_sz].append(training_experiment(\"word2vec\", word2vec_lsa_featurizer, n, verbose=False))"
   ]
  },
  {
   "cell_type": "code",
   "execution_count": null,
   "metadata": {},
   "outputs": [],
   "source": [
    "nrow = 2\n",
    "ncol = 3\n",
    "fig, axs = plt.subplots(nrow, ncol, figsize=(9,6), sharex = True, sharey=True)\n",
    "for i, embed_sz in enumerate(embedding_sizes):\n",
    "    axs[i//ncol, i%ncol].plot(train_sizes, word_embed_results[embed_sz][\"lsa\"], label=\"lsa\")\n",
    "    axs[i//ncol, i%ncol].plot(train_sizes, word2vec_results[embed_sz], label=\"word2vec\")\n",
    "    axs[i//ncol, i%ncol].set_title('Embedding Size of {}'.format(embed_sz))\n",
    "\n",
    "for ax in axs.flat:\n",
    "    ax.set(xlabel='Number of Train Examples', ylabel='Test Accuracy')\n",
    "\n",
    "# Hide x labels and tick labels for top plots and y ticks for right plots.\n",
    "for ax in axs.flat:\n",
    "    ax.label_outer()\n",
    "\n",
    "plt.legend(loc = \"lower right\")\n",
    "plt.suptitle('Test Accuracy of LSA and Word2Vec on Different Train Data Sizes')\n",
    "# plt.subplots_adjust(hspace=0.2)\n",
    "\n",
    "plt.savefig('assets/lsa-word2vec_embed-ntrain.png')\n",
    "plt.show()"
   ]
  },
  {
   "cell_type": "code",
   "execution_count": null,
   "metadata": {},
   "outputs": [],
   "source": []
  }
 ],
 "metadata": {
  "accelerator": "GPU",
  "colab": {
   "collapsed_sections": [],
   "include_colab_link": true,
   "machine_shape": "hm",
   "name": "6864-hw1",
   "provenance": []
  },
  "kernelspec": {
   "display_name": "Python 3",
   "language": "python",
   "name": "python3"
  },
  "language_info": {
   "codemirror_mode": {
    "name": "ipython",
    "version": 3
   },
   "file_extension": ".py",
   "mimetype": "text/x-python",
   "name": "python",
   "nbconvert_exporter": "python",
   "pygments_lexer": "ipython3",
   "version": "3.7.6"
  }
 },
 "nbformat": 4,
 "nbformat_minor": 1
}
